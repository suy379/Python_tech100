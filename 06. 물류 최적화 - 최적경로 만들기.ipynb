{
 "cells": [
  {
   "cell_type": "markdown",
   "metadata": {},
   "source": [
    "# 6장. 물류 최적화\n",
    "앞서 4-5장에서는 **실전 편 - 머신러닝** 에 대해 공부했다.  \n",
    "(그래서 데이터를 가공 , 사전 분석(EDA), 머신러닝을 활용한 예측까지를 다루면서 여러 인사이트를 발견하였다.)  \n",
    "이번 6-8장에서는 **실전 편 - 최적화**에 대해 공부해볼 것이다.  여기서 다루는 데이터는 물류 데이터로 이전 파트보다는 좀 더 복잡하다.  \n",
    "물류의 최적 경로를 발견하는 **최적 경로 탐색**, 회사의 비즈니스를 개선하는 **최적 리소스 분배** , **시뮬레이션(미래 예측)** 등의 내용을 다뤄볼 것이다.  \n",
    "\n",
    "---\n",
    "머신러닝도 그렇지만, 최적화의 경우에도 잘 활용될 수 있는 분야가 있고 아닌 분야가 있다. 앞서 머신러닝에선 고객의 이용횟수나 이탈을 예측하는 등 B2C 회사의 경우 잘 맞다. (커머스 업계, 게임 업계 등)  \n",
    "최적화는 시간이나 경로를 계산하는 분야에 잘 맞는다. 이를테면 지하철 시간표를 짜는 것, 물류창고의 최적 경로 탐색, 모빌리티 업계에서의 차량/자전거 재배치 등이다. 인사 관리를 할 때 아르바이트 타임 스케쥴을 짤 때에도 최적화를 적용할 수 있다. 여기서는 *물류창고의 최적 경로 탐색* 최적화를 해보자!"
   ]
  },
  {
   "cell_type": "markdown",
   "metadata": {},
   "source": [
    "- 이번 6장에서는 '물류'의 기초가 되는 '운송최적화'를 검토하고 기초적인 기술을 배운다.  \n",
    "    - 네트워크 구조 가시화\n",
    "    - 최적 물류 계획 세우기\n",
    "- 이를 바탕으로 물류비용을 줄이고 더 효율적인 운송이 가능하도록 만들어보자.  \n",
    "\n",
    "---\n",
    "사용하는 데이터(2019.01.01 - 2019.12.31)\n",
    "- tbl_factory.csv : 공장 데이터\n",
    "- tbl_warehouse.csv : 창고 데이터\n",
    "- rel_cost.csv : 창고 - 공장 간 운송비용\n",
    "- tbl_transaction.csv : 2019년 공장으로의 부품 운송 실적"
   ]
  },
  {
   "cell_type": "markdown",
   "metadata": {},
   "source": [
    "## Tech 51. 물류 데이터를 불러오자"
   ]
  },
  {
   "cell_type": "code",
   "execution_count": 1,
   "metadata": {},
   "outputs": [
    {
     "name": "stdout",
     "output_type": "stream",
     "text": [
      "(8, 3) (6, 3) (24, 3) (4000, 4)\n"
     ]
    },
    {
     "data": {
      "text/html": [
       "<div>\n",
       "<style scoped>\n",
       "    .dataframe tbody tr th:only-of-type {\n",
       "        vertical-align: middle;\n",
       "    }\n",
       "\n",
       "    .dataframe tbody tr th {\n",
       "        vertical-align: top;\n",
       "    }\n",
       "\n",
       "    .dataframe thead th {\n",
       "        text-align: right;\n",
       "    }\n",
       "</style>\n",
       "<table border=\"1\" class=\"dataframe\">\n",
       "  <thead>\n",
       "    <tr style=\"text-align: right;\">\n",
       "      <th></th>\n",
       "      <th>FCName</th>\n",
       "      <th>FCDemand</th>\n",
       "      <th>FCRegion</th>\n",
       "    </tr>\n",
       "    <tr>\n",
       "      <th>FCID</th>\n",
       "      <th></th>\n",
       "      <th></th>\n",
       "      <th></th>\n",
       "    </tr>\n",
       "  </thead>\n",
       "  <tbody>\n",
       "    <tr>\n",
       "      <th>FC00001</th>\n",
       "      <td>서울공장</td>\n",
       "      <td>28</td>\n",
       "      <td>북부</td>\n",
       "    </tr>\n",
       "    <tr>\n",
       "      <th>FC00002</th>\n",
       "      <td>수원공장</td>\n",
       "      <td>29</td>\n",
       "      <td>북부</td>\n",
       "    </tr>\n",
       "    <tr>\n",
       "      <th>FC00003</th>\n",
       "      <td>인천공장</td>\n",
       "      <td>31</td>\n",
       "      <td>북부</td>\n",
       "    </tr>\n",
       "    <tr>\n",
       "      <th>FC00004</th>\n",
       "      <td>대전공장</td>\n",
       "      <td>25</td>\n",
       "      <td>북부</td>\n",
       "    </tr>\n",
       "    <tr>\n",
       "      <th>FC00005</th>\n",
       "      <td>대구공장</td>\n",
       "      <td>21</td>\n",
       "      <td>남부</td>\n",
       "    </tr>\n",
       "  </tbody>\n",
       "</table>\n",
       "</div>"
      ],
      "text/plain": [
       "        FCName  FCDemand FCRegion\n",
       "FCID                             \n",
       "FC00001   서울공장        28       북부\n",
       "FC00002   수원공장        29       북부\n",
       "FC00003   인천공장        31       북부\n",
       "FC00004   대전공장        25       북부\n",
       "FC00005   대구공장        21       남부"
      ]
     },
     "metadata": {},
     "output_type": "display_data"
    },
    {
     "data": {
      "text/html": [
       "<div>\n",
       "<style scoped>\n",
       "    .dataframe tbody tr th:only-of-type {\n",
       "        vertical-align: middle;\n",
       "    }\n",
       "\n",
       "    .dataframe tbody tr th {\n",
       "        vertical-align: top;\n",
       "    }\n",
       "\n",
       "    .dataframe thead th {\n",
       "        text-align: right;\n",
       "    }\n",
       "</style>\n",
       "<table border=\"1\" class=\"dataframe\">\n",
       "  <thead>\n",
       "    <tr style=\"text-align: right;\">\n",
       "      <th></th>\n",
       "      <th>WHName</th>\n",
       "      <th>WHSupply</th>\n",
       "      <th>WHRegion</th>\n",
       "    </tr>\n",
       "    <tr>\n",
       "      <th>WHID</th>\n",
       "      <th></th>\n",
       "      <th></th>\n",
       "      <th></th>\n",
       "    </tr>\n",
       "  </thead>\n",
       "  <tbody>\n",
       "    <tr>\n",
       "      <th>WH00001</th>\n",
       "      <td>판교창고</td>\n",
       "      <td>35</td>\n",
       "      <td>북부</td>\n",
       "    </tr>\n",
       "    <tr>\n",
       "      <th>WH00002</th>\n",
       "      <td>용인창고</td>\n",
       "      <td>41</td>\n",
       "      <td>북부</td>\n",
       "    </tr>\n",
       "    <tr>\n",
       "      <th>WH00003</th>\n",
       "      <td>수원창고</td>\n",
       "      <td>42</td>\n",
       "      <td>북부</td>\n",
       "    </tr>\n",
       "    <tr>\n",
       "      <th>WH00004</th>\n",
       "      <td>대전창고</td>\n",
       "      <td>60</td>\n",
       "      <td>남부</td>\n",
       "    </tr>\n",
       "    <tr>\n",
       "      <th>WH00005</th>\n",
       "      <td>대구창고</td>\n",
       "      <td>72</td>\n",
       "      <td>남부</td>\n",
       "    </tr>\n",
       "  </tbody>\n",
       "</table>\n",
       "</div>"
      ],
      "text/plain": [
       "        WHName  WHSupply WHRegion\n",
       "WHID                             \n",
       "WH00001   판교창고        35       북부\n",
       "WH00002   용인창고        41       북부\n",
       "WH00003   수원창고        42       북부\n",
       "WH00004   대전창고        60       남부\n",
       "WH00005   대구창고        72       남부"
      ]
     },
     "metadata": {},
     "output_type": "display_data"
    },
    {
     "data": {
      "text/html": [
       "<div>\n",
       "<style scoped>\n",
       "    .dataframe tbody tr th:only-of-type {\n",
       "        vertical-align: middle;\n",
       "    }\n",
       "\n",
       "    .dataframe tbody tr th {\n",
       "        vertical-align: top;\n",
       "    }\n",
       "\n",
       "    .dataframe thead th {\n",
       "        text-align: right;\n",
       "    }\n",
       "</style>\n",
       "<table border=\"1\" class=\"dataframe\">\n",
       "  <thead>\n",
       "    <tr style=\"text-align: right;\">\n",
       "      <th></th>\n",
       "      <th>FCID</th>\n",
       "      <th>WHID</th>\n",
       "      <th>Cost</th>\n",
       "    </tr>\n",
       "    <tr>\n",
       "      <th>RCostID</th>\n",
       "      <th></th>\n",
       "      <th></th>\n",
       "      <th></th>\n",
       "    </tr>\n",
       "  </thead>\n",
       "  <tbody>\n",
       "    <tr>\n",
       "      <th>1</th>\n",
       "      <td>FC00001</td>\n",
       "      <td>WH00001</td>\n",
       "      <td>0.4</td>\n",
       "    </tr>\n",
       "    <tr>\n",
       "      <th>2</th>\n",
       "      <td>FC00001</td>\n",
       "      <td>WH00002</td>\n",
       "      <td>0.8</td>\n",
       "    </tr>\n",
       "    <tr>\n",
       "      <th>3</th>\n",
       "      <td>FC00001</td>\n",
       "      <td>WH00003</td>\n",
       "      <td>1.5</td>\n",
       "    </tr>\n",
       "    <tr>\n",
       "      <th>4</th>\n",
       "      <td>FC00002</td>\n",
       "      <td>WH00001</td>\n",
       "      <td>0.9</td>\n",
       "    </tr>\n",
       "    <tr>\n",
       "      <th>5</th>\n",
       "      <td>FC00002</td>\n",
       "      <td>WH00002</td>\n",
       "      <td>0.8</td>\n",
       "    </tr>\n",
       "  </tbody>\n",
       "</table>\n",
       "</div>"
      ],
      "text/plain": [
       "            FCID     WHID  Cost\n",
       "RCostID                        \n",
       "1        FC00001  WH00001   0.4\n",
       "2        FC00001  WH00002   0.8\n",
       "3        FC00001  WH00003   1.5\n",
       "4        FC00002  WH00001   0.9\n",
       "5        FC00002  WH00002   0.8"
      ]
     },
     "metadata": {},
     "output_type": "display_data"
    },
    {
     "data": {
      "text/html": [
       "<div>\n",
       "<style scoped>\n",
       "    .dataframe tbody tr th:only-of-type {\n",
       "        vertical-align: middle;\n",
       "    }\n",
       "\n",
       "    .dataframe tbody tr th {\n",
       "        vertical-align: top;\n",
       "    }\n",
       "\n",
       "    .dataframe thead th {\n",
       "        text-align: right;\n",
       "    }\n",
       "</style>\n",
       "<table border=\"1\" class=\"dataframe\">\n",
       "  <thead>\n",
       "    <tr style=\"text-align: right;\">\n",
       "      <th></th>\n",
       "      <th>TransactionDate</th>\n",
       "      <th>ToFC</th>\n",
       "      <th>FromWH</th>\n",
       "      <th>Quantity</th>\n",
       "    </tr>\n",
       "    <tr>\n",
       "      <th>TRID</th>\n",
       "      <th></th>\n",
       "      <th></th>\n",
       "      <th></th>\n",
       "      <th></th>\n",
       "    </tr>\n",
       "  </thead>\n",
       "  <tbody>\n",
       "    <tr>\n",
       "      <th>0</th>\n",
       "      <td>2019-01-01 02:11:10</td>\n",
       "      <td>FC00004</td>\n",
       "      <td>WH00003</td>\n",
       "      <td>33</td>\n",
       "    </tr>\n",
       "    <tr>\n",
       "      <th>1</th>\n",
       "      <td>2019-01-01 06:12:42</td>\n",
       "      <td>FC00007</td>\n",
       "      <td>WH00006</td>\n",
       "      <td>19</td>\n",
       "    </tr>\n",
       "    <tr>\n",
       "      <th>2</th>\n",
       "      <td>2019-01-01 06:32:32</td>\n",
       "      <td>FC00006</td>\n",
       "      <td>WH00004</td>\n",
       "      <td>31</td>\n",
       "    </tr>\n",
       "    <tr>\n",
       "      <th>3</th>\n",
       "      <td>2019-01-01 07:17:06</td>\n",
       "      <td>FC00002</td>\n",
       "      <td>WH00003</td>\n",
       "      <td>18</td>\n",
       "    </tr>\n",
       "    <tr>\n",
       "      <th>4</th>\n",
       "      <td>2019-01-01 07:52:18</td>\n",
       "      <td>FC00001</td>\n",
       "      <td>WH00002</td>\n",
       "      <td>30</td>\n",
       "    </tr>\n",
       "  </tbody>\n",
       "</table>\n",
       "</div>"
      ],
      "text/plain": [
       "          TransactionDate     ToFC   FromWH  Quantity\n",
       "TRID                                                 \n",
       "0     2019-01-01 02:11:10  FC00004  WH00003        33\n",
       "1     2019-01-01 06:12:42  FC00007  WH00006        19\n",
       "2     2019-01-01 06:32:32  FC00006  WH00004        31\n",
       "3     2019-01-01 07:17:06  FC00002  WH00003        18\n",
       "4     2019-01-01 07:52:18  FC00001  WH00002        30"
      ]
     },
     "metadata": {},
     "output_type": "display_data"
    }
   ],
   "source": [
    "import pandas as pd\n",
    "\n",
    "fac = pd.read_csv('6장/tbl_factory.csv', index_col = 0)\n",
    "w = pd.read_csv('6장/tbl_warehouse.csv', index_col = 0)\n",
    "cost = pd.read_csv('6장/rel_cost.csv', index_col = 0)\n",
    "trans = pd.read_csv('6장/tbl_transaction.csv', index_col = 0)\n",
    "\n",
    "print(fac.shape, w.shape, cost.shape, trans.shape)\n",
    "display(fac.head(), w.head(), cost.head(), trans.head())"
   ]
  },
  {
   "cell_type": "markdown",
   "metadata": {},
   "source": [
    "- 데이터를 보면, 모든 4개의 데이터에 공통으로 존재하는 것은 '공장 정보'와 '창고 정보'임을 알 수 있다.\n",
    "    - 그래서 이 2개 컬럼을 key로 하여 데이터를 조인한다. (단, fac, w, cost에서 얘네의 컬럼명은 FCID, WHID이지만 trans에서만 ToFC, FromWH로 되어 있으니 주의. 컬럼명만 다를 뿐 동일한 값이다\n",
    "- 가장 중요한 테이블은 운송 실적(trans) 이므로 얘를 중심으로 각 정보를 결합 -> left join"
   ]
  },
  {
   "cell_type": "code",
   "execution_count": 2,
   "metadata": {},
   "outputs": [
    {
     "data": {
      "text/html": [
       "<div>\n",
       "<style scoped>\n",
       "    .dataframe tbody tr th:only-of-type {\n",
       "        vertical-align: middle;\n",
       "    }\n",
       "\n",
       "    .dataframe tbody tr th {\n",
       "        vertical-align: top;\n",
       "    }\n",
       "\n",
       "    .dataframe thead th {\n",
       "        text-align: right;\n",
       "    }\n",
       "</style>\n",
       "<table border=\"1\" class=\"dataframe\">\n",
       "  <thead>\n",
       "    <tr style=\"text-align: right;\">\n",
       "      <th></th>\n",
       "      <th>TransactionDate</th>\n",
       "      <th>ToFC</th>\n",
       "      <th>FromWH</th>\n",
       "      <th>Quantity</th>\n",
       "      <th>FCID</th>\n",
       "      <th>WHID</th>\n",
       "      <th>Cost</th>\n",
       "    </tr>\n",
       "  </thead>\n",
       "  <tbody>\n",
       "    <tr>\n",
       "      <th>0</th>\n",
       "      <td>2019-01-01 02:11:10</td>\n",
       "      <td>FC00004</td>\n",
       "      <td>WH00003</td>\n",
       "      <td>33</td>\n",
       "      <td>FC00004</td>\n",
       "      <td>WH00003</td>\n",
       "      <td>1.1</td>\n",
       "    </tr>\n",
       "    <tr>\n",
       "      <th>1</th>\n",
       "      <td>2019-01-01 06:12:42</td>\n",
       "      <td>FC00007</td>\n",
       "      <td>WH00006</td>\n",
       "      <td>19</td>\n",
       "      <td>FC00007</td>\n",
       "      <td>WH00006</td>\n",
       "      <td>1.3</td>\n",
       "    </tr>\n",
       "    <tr>\n",
       "      <th>2</th>\n",
       "      <td>2019-01-01 06:32:32</td>\n",
       "      <td>FC00006</td>\n",
       "      <td>WH00004</td>\n",
       "      <td>31</td>\n",
       "      <td>FC00006</td>\n",
       "      <td>WH00004</td>\n",
       "      <td>0.9</td>\n",
       "    </tr>\n",
       "    <tr>\n",
       "      <th>3</th>\n",
       "      <td>2019-01-01 07:17:06</td>\n",
       "      <td>FC00002</td>\n",
       "      <td>WH00003</td>\n",
       "      <td>18</td>\n",
       "      <td>FC00002</td>\n",
       "      <td>WH00003</td>\n",
       "      <td>1.6</td>\n",
       "    </tr>\n",
       "    <tr>\n",
       "      <th>4</th>\n",
       "      <td>2019-01-01 07:52:18</td>\n",
       "      <td>FC00001</td>\n",
       "      <td>WH00002</td>\n",
       "      <td>30</td>\n",
       "      <td>FC00001</td>\n",
       "      <td>WH00002</td>\n",
       "      <td>0.8</td>\n",
       "    </tr>\n",
       "    <tr>\n",
       "      <th>...</th>\n",
       "      <td>...</td>\n",
       "      <td>...</td>\n",
       "      <td>...</td>\n",
       "      <td>...</td>\n",
       "      <td>...</td>\n",
       "      <td>...</td>\n",
       "      <td>...</td>\n",
       "    </tr>\n",
       "    <tr>\n",
       "      <th>3995</th>\n",
       "      <td>2019-12-31 11:27:51</td>\n",
       "      <td>FC00007</td>\n",
       "      <td>WH00006</td>\n",
       "      <td>29</td>\n",
       "      <td>FC00007</td>\n",
       "      <td>WH00006</td>\n",
       "      <td>1.3</td>\n",
       "    </tr>\n",
       "    <tr>\n",
       "      <th>3996</th>\n",
       "      <td>2019-12-31 17:10:21</td>\n",
       "      <td>FC00002</td>\n",
       "      <td>WH00003</td>\n",
       "      <td>35</td>\n",
       "      <td>FC00002</td>\n",
       "      <td>WH00003</td>\n",
       "      <td>1.6</td>\n",
       "    </tr>\n",
       "    <tr>\n",
       "      <th>3997</th>\n",
       "      <td>2019-12-31 19:35:07</td>\n",
       "      <td>FC00003</td>\n",
       "      <td>WH00001</td>\n",
       "      <td>36</td>\n",
       "      <td>FC00003</td>\n",
       "      <td>WH00001</td>\n",
       "      <td>1.2</td>\n",
       "    </tr>\n",
       "    <tr>\n",
       "      <th>3998</th>\n",
       "      <td>2019-12-31 21:45:07</td>\n",
       "      <td>FC00005</td>\n",
       "      <td>WH00005</td>\n",
       "      <td>34</td>\n",
       "      <td>FC00005</td>\n",
       "      <td>WH00005</td>\n",
       "      <td>0.3</td>\n",
       "    </tr>\n",
       "    <tr>\n",
       "      <th>3999</th>\n",
       "      <td>2019-12-31 23:19:37</td>\n",
       "      <td>FC00005</td>\n",
       "      <td>WH00005</td>\n",
       "      <td>16</td>\n",
       "      <td>FC00005</td>\n",
       "      <td>WH00005</td>\n",
       "      <td>0.3</td>\n",
       "    </tr>\n",
       "  </tbody>\n",
       "</table>\n",
       "<p>4000 rows × 7 columns</p>\n",
       "</div>"
      ],
      "text/plain": [
       "          TransactionDate     ToFC   FromWH  Quantity     FCID     WHID  Cost\n",
       "0     2019-01-01 02:11:10  FC00004  WH00003        33  FC00004  WH00003   1.1\n",
       "1     2019-01-01 06:12:42  FC00007  WH00006        19  FC00007  WH00006   1.3\n",
       "2     2019-01-01 06:32:32  FC00006  WH00004        31  FC00006  WH00004   0.9\n",
       "3     2019-01-01 07:17:06  FC00002  WH00003        18  FC00002  WH00003   1.6\n",
       "4     2019-01-01 07:52:18  FC00001  WH00002        30  FC00001  WH00002   0.8\n",
       "...                   ...      ...      ...       ...      ...      ...   ...\n",
       "3995  2019-12-31 11:27:51  FC00007  WH00006        29  FC00007  WH00006   1.3\n",
       "3996  2019-12-31 17:10:21  FC00002  WH00003        35  FC00002  WH00003   1.6\n",
       "3997  2019-12-31 19:35:07  FC00003  WH00001        36  FC00003  WH00001   1.2\n",
       "3998  2019-12-31 21:45:07  FC00005  WH00005        34  FC00005  WH00005   0.3\n",
       "3999  2019-12-31 23:19:37  FC00005  WH00005        16  FC00005  WH00005   0.3\n",
       "\n",
       "[4000 rows x 7 columns]"
      ]
     },
     "execution_count": 2,
     "metadata": {},
     "output_type": "execute_result"
    }
   ],
   "source": [
    "#먼저, trans에 cost 조인\n",
    "join_data = pd.merge(trans, cost, left_on = ['ToFC', 'FromWH'],  right_on = ['FCID', 'WHID'], how= 'left')\n",
    "join_data"
   ]
  },
  {
   "cell_type": "code",
   "execution_count": 3,
   "metadata": {},
   "outputs": [
    {
     "data": {
      "text/html": [
       "<div>\n",
       "<style scoped>\n",
       "    .dataframe tbody tr th:only-of-type {\n",
       "        vertical-align: middle;\n",
       "    }\n",
       "\n",
       "    .dataframe tbody tr th {\n",
       "        vertical-align: top;\n",
       "    }\n",
       "\n",
       "    .dataframe thead th {\n",
       "        text-align: right;\n",
       "    }\n",
       "</style>\n",
       "<table border=\"1\" class=\"dataframe\">\n",
       "  <thead>\n",
       "    <tr style=\"text-align: right;\">\n",
       "      <th></th>\n",
       "      <th>TransactionDate</th>\n",
       "      <th>ToFC</th>\n",
       "      <th>FromWH</th>\n",
       "      <th>Quantity</th>\n",
       "      <th>FCID</th>\n",
       "      <th>WHID</th>\n",
       "      <th>Cost</th>\n",
       "      <th>FCName</th>\n",
       "      <th>FCDemand</th>\n",
       "      <th>FCRegion</th>\n",
       "    </tr>\n",
       "  </thead>\n",
       "  <tbody>\n",
       "    <tr>\n",
       "      <th>0</th>\n",
       "      <td>2019-01-01 02:11:10</td>\n",
       "      <td>FC00004</td>\n",
       "      <td>WH00003</td>\n",
       "      <td>33</td>\n",
       "      <td>FC00004</td>\n",
       "      <td>WH00003</td>\n",
       "      <td>1.1</td>\n",
       "      <td>대전공장</td>\n",
       "      <td>25</td>\n",
       "      <td>북부</td>\n",
       "    </tr>\n",
       "    <tr>\n",
       "      <th>1</th>\n",
       "      <td>2019-01-01 06:12:42</td>\n",
       "      <td>FC00007</td>\n",
       "      <td>WH00006</td>\n",
       "      <td>19</td>\n",
       "      <td>FC00007</td>\n",
       "      <td>WH00006</td>\n",
       "      <td>1.3</td>\n",
       "      <td>부산공장</td>\n",
       "      <td>25</td>\n",
       "      <td>남부</td>\n",
       "    </tr>\n",
       "    <tr>\n",
       "      <th>2</th>\n",
       "      <td>2019-01-01 06:32:32</td>\n",
       "      <td>FC00006</td>\n",
       "      <td>WH00004</td>\n",
       "      <td>31</td>\n",
       "      <td>FC00006</td>\n",
       "      <td>WH00004</td>\n",
       "      <td>0.9</td>\n",
       "      <td>광주공장</td>\n",
       "      <td>30</td>\n",
       "      <td>남부</td>\n",
       "    </tr>\n",
       "    <tr>\n",
       "      <th>3</th>\n",
       "      <td>2019-01-01 07:17:06</td>\n",
       "      <td>FC00002</td>\n",
       "      <td>WH00003</td>\n",
       "      <td>18</td>\n",
       "      <td>FC00002</td>\n",
       "      <td>WH00003</td>\n",
       "      <td>1.6</td>\n",
       "      <td>수원공장</td>\n",
       "      <td>29</td>\n",
       "      <td>북부</td>\n",
       "    </tr>\n",
       "    <tr>\n",
       "      <th>4</th>\n",
       "      <td>2019-01-01 07:52:18</td>\n",
       "      <td>FC00001</td>\n",
       "      <td>WH00002</td>\n",
       "      <td>30</td>\n",
       "      <td>FC00001</td>\n",
       "      <td>WH00002</td>\n",
       "      <td>0.8</td>\n",
       "      <td>서울공장</td>\n",
       "      <td>28</td>\n",
       "      <td>북부</td>\n",
       "    </tr>\n",
       "    <tr>\n",
       "      <th>...</th>\n",
       "      <td>...</td>\n",
       "      <td>...</td>\n",
       "      <td>...</td>\n",
       "      <td>...</td>\n",
       "      <td>...</td>\n",
       "      <td>...</td>\n",
       "      <td>...</td>\n",
       "      <td>...</td>\n",
       "      <td>...</td>\n",
       "      <td>...</td>\n",
       "    </tr>\n",
       "    <tr>\n",
       "      <th>3995</th>\n",
       "      <td>2019-12-31 11:27:51</td>\n",
       "      <td>FC00007</td>\n",
       "      <td>WH00006</td>\n",
       "      <td>29</td>\n",
       "      <td>FC00007</td>\n",
       "      <td>WH00006</td>\n",
       "      <td>1.3</td>\n",
       "      <td>부산공장</td>\n",
       "      <td>25</td>\n",
       "      <td>남부</td>\n",
       "    </tr>\n",
       "    <tr>\n",
       "      <th>3996</th>\n",
       "      <td>2019-12-31 17:10:21</td>\n",
       "      <td>FC00002</td>\n",
       "      <td>WH00003</td>\n",
       "      <td>35</td>\n",
       "      <td>FC00002</td>\n",
       "      <td>WH00003</td>\n",
       "      <td>1.6</td>\n",
       "      <td>수원공장</td>\n",
       "      <td>29</td>\n",
       "      <td>북부</td>\n",
       "    </tr>\n",
       "    <tr>\n",
       "      <th>3997</th>\n",
       "      <td>2019-12-31 19:35:07</td>\n",
       "      <td>FC00003</td>\n",
       "      <td>WH00001</td>\n",
       "      <td>36</td>\n",
       "      <td>FC00003</td>\n",
       "      <td>WH00001</td>\n",
       "      <td>1.2</td>\n",
       "      <td>인천공장</td>\n",
       "      <td>31</td>\n",
       "      <td>북부</td>\n",
       "    </tr>\n",
       "    <tr>\n",
       "      <th>3998</th>\n",
       "      <td>2019-12-31 21:45:07</td>\n",
       "      <td>FC00005</td>\n",
       "      <td>WH00005</td>\n",
       "      <td>34</td>\n",
       "      <td>FC00005</td>\n",
       "      <td>WH00005</td>\n",
       "      <td>0.3</td>\n",
       "      <td>대구공장</td>\n",
       "      <td>21</td>\n",
       "      <td>남부</td>\n",
       "    </tr>\n",
       "    <tr>\n",
       "      <th>3999</th>\n",
       "      <td>2019-12-31 23:19:37</td>\n",
       "      <td>FC00005</td>\n",
       "      <td>WH00005</td>\n",
       "      <td>16</td>\n",
       "      <td>FC00005</td>\n",
       "      <td>WH00005</td>\n",
       "      <td>0.3</td>\n",
       "      <td>대구공장</td>\n",
       "      <td>21</td>\n",
       "      <td>남부</td>\n",
       "    </tr>\n",
       "  </tbody>\n",
       "</table>\n",
       "<p>4000 rows × 10 columns</p>\n",
       "</div>"
      ],
      "text/plain": [
       "          TransactionDate     ToFC   FromWH  Quantity     FCID     WHID  Cost  \\\n",
       "0     2019-01-01 02:11:10  FC00004  WH00003        33  FC00004  WH00003   1.1   \n",
       "1     2019-01-01 06:12:42  FC00007  WH00006        19  FC00007  WH00006   1.3   \n",
       "2     2019-01-01 06:32:32  FC00006  WH00004        31  FC00006  WH00004   0.9   \n",
       "3     2019-01-01 07:17:06  FC00002  WH00003        18  FC00002  WH00003   1.6   \n",
       "4     2019-01-01 07:52:18  FC00001  WH00002        30  FC00001  WH00002   0.8   \n",
       "...                   ...      ...      ...       ...      ...      ...   ...   \n",
       "3995  2019-12-31 11:27:51  FC00007  WH00006        29  FC00007  WH00006   1.3   \n",
       "3996  2019-12-31 17:10:21  FC00002  WH00003        35  FC00002  WH00003   1.6   \n",
       "3997  2019-12-31 19:35:07  FC00003  WH00001        36  FC00003  WH00001   1.2   \n",
       "3998  2019-12-31 21:45:07  FC00005  WH00005        34  FC00005  WH00005   0.3   \n",
       "3999  2019-12-31 23:19:37  FC00005  WH00005        16  FC00005  WH00005   0.3   \n",
       "\n",
       "     FCName  FCDemand FCRegion  \n",
       "0      대전공장        25       북부  \n",
       "1      부산공장        25       남부  \n",
       "2      광주공장        30       남부  \n",
       "3      수원공장        29       북부  \n",
       "4      서울공장        28       북부  \n",
       "...     ...       ...      ...  \n",
       "3995   부산공장        25       남부  \n",
       "3996   수원공장        29       북부  \n",
       "3997   인천공장        31       북부  \n",
       "3998   대구공장        21       남부  \n",
       "3999   대구공장        21       남부  \n",
       "\n",
       "[4000 rows x 10 columns]"
      ]
     },
     "execution_count": 3,
     "metadata": {},
     "output_type": "execute_result"
    }
   ],
   "source": [
    "#그다음은 공장정보(fac) 조인\n",
    "join_data =  pd.merge(join_data, fac , on = 'FCID', how='left')\n",
    "join_data"
   ]
  },
  {
   "cell_type": "code",
   "execution_count": 4,
   "metadata": {},
   "outputs": [
    {
     "data": {
      "text/html": [
       "<div>\n",
       "<style scoped>\n",
       "    .dataframe tbody tr th:only-of-type {\n",
       "        vertical-align: middle;\n",
       "    }\n",
       "\n",
       "    .dataframe tbody tr th {\n",
       "        vertical-align: top;\n",
       "    }\n",
       "\n",
       "    .dataframe thead th {\n",
       "        text-align: right;\n",
       "    }\n",
       "</style>\n",
       "<table border=\"1\" class=\"dataframe\">\n",
       "  <thead>\n",
       "    <tr style=\"text-align: right;\">\n",
       "      <th></th>\n",
       "      <th>TransactionDate</th>\n",
       "      <th>ToFC</th>\n",
       "      <th>FromWH</th>\n",
       "      <th>Quantity</th>\n",
       "      <th>FCID</th>\n",
       "      <th>WHID</th>\n",
       "      <th>Cost</th>\n",
       "      <th>FCName</th>\n",
       "      <th>FCDemand</th>\n",
       "      <th>FCRegion</th>\n",
       "      <th>WHName</th>\n",
       "      <th>WHSupply</th>\n",
       "      <th>WHRegion</th>\n",
       "    </tr>\n",
       "  </thead>\n",
       "  <tbody>\n",
       "    <tr>\n",
       "      <th>0</th>\n",
       "      <td>2019-01-01 02:11:10</td>\n",
       "      <td>FC00004</td>\n",
       "      <td>WH00003</td>\n",
       "      <td>33</td>\n",
       "      <td>FC00004</td>\n",
       "      <td>WH00003</td>\n",
       "      <td>1.1</td>\n",
       "      <td>대전공장</td>\n",
       "      <td>25</td>\n",
       "      <td>북부</td>\n",
       "      <td>수원창고</td>\n",
       "      <td>42</td>\n",
       "      <td>북부</td>\n",
       "    </tr>\n",
       "    <tr>\n",
       "      <th>1</th>\n",
       "      <td>2019-01-01 06:12:42</td>\n",
       "      <td>FC00007</td>\n",
       "      <td>WH00006</td>\n",
       "      <td>19</td>\n",
       "      <td>FC00007</td>\n",
       "      <td>WH00006</td>\n",
       "      <td>1.3</td>\n",
       "      <td>부산공장</td>\n",
       "      <td>25</td>\n",
       "      <td>남부</td>\n",
       "      <td>광주창고</td>\n",
       "      <td>65</td>\n",
       "      <td>남부</td>\n",
       "    </tr>\n",
       "    <tr>\n",
       "      <th>2</th>\n",
       "      <td>2019-01-01 06:32:32</td>\n",
       "      <td>FC00006</td>\n",
       "      <td>WH00004</td>\n",
       "      <td>31</td>\n",
       "      <td>FC00006</td>\n",
       "      <td>WH00004</td>\n",
       "      <td>0.9</td>\n",
       "      <td>광주공장</td>\n",
       "      <td>30</td>\n",
       "      <td>남부</td>\n",
       "      <td>대전창고</td>\n",
       "      <td>60</td>\n",
       "      <td>남부</td>\n",
       "    </tr>\n",
       "    <tr>\n",
       "      <th>3</th>\n",
       "      <td>2019-01-01 07:17:06</td>\n",
       "      <td>FC00002</td>\n",
       "      <td>WH00003</td>\n",
       "      <td>18</td>\n",
       "      <td>FC00002</td>\n",
       "      <td>WH00003</td>\n",
       "      <td>1.6</td>\n",
       "      <td>수원공장</td>\n",
       "      <td>29</td>\n",
       "      <td>북부</td>\n",
       "      <td>수원창고</td>\n",
       "      <td>42</td>\n",
       "      <td>북부</td>\n",
       "    </tr>\n",
       "    <tr>\n",
       "      <th>4</th>\n",
       "      <td>2019-01-01 07:52:18</td>\n",
       "      <td>FC00001</td>\n",
       "      <td>WH00002</td>\n",
       "      <td>30</td>\n",
       "      <td>FC00001</td>\n",
       "      <td>WH00002</td>\n",
       "      <td>0.8</td>\n",
       "      <td>서울공장</td>\n",
       "      <td>28</td>\n",
       "      <td>북부</td>\n",
       "      <td>용인창고</td>\n",
       "      <td>41</td>\n",
       "      <td>북부</td>\n",
       "    </tr>\n",
       "    <tr>\n",
       "      <th>...</th>\n",
       "      <td>...</td>\n",
       "      <td>...</td>\n",
       "      <td>...</td>\n",
       "      <td>...</td>\n",
       "      <td>...</td>\n",
       "      <td>...</td>\n",
       "      <td>...</td>\n",
       "      <td>...</td>\n",
       "      <td>...</td>\n",
       "      <td>...</td>\n",
       "      <td>...</td>\n",
       "      <td>...</td>\n",
       "      <td>...</td>\n",
       "    </tr>\n",
       "    <tr>\n",
       "      <th>3995</th>\n",
       "      <td>2019-12-31 11:27:51</td>\n",
       "      <td>FC00007</td>\n",
       "      <td>WH00006</td>\n",
       "      <td>29</td>\n",
       "      <td>FC00007</td>\n",
       "      <td>WH00006</td>\n",
       "      <td>1.3</td>\n",
       "      <td>부산공장</td>\n",
       "      <td>25</td>\n",
       "      <td>남부</td>\n",
       "      <td>광주창고</td>\n",
       "      <td>65</td>\n",
       "      <td>남부</td>\n",
       "    </tr>\n",
       "    <tr>\n",
       "      <th>3996</th>\n",
       "      <td>2019-12-31 17:10:21</td>\n",
       "      <td>FC00002</td>\n",
       "      <td>WH00003</td>\n",
       "      <td>35</td>\n",
       "      <td>FC00002</td>\n",
       "      <td>WH00003</td>\n",
       "      <td>1.6</td>\n",
       "      <td>수원공장</td>\n",
       "      <td>29</td>\n",
       "      <td>북부</td>\n",
       "      <td>수원창고</td>\n",
       "      <td>42</td>\n",
       "      <td>북부</td>\n",
       "    </tr>\n",
       "    <tr>\n",
       "      <th>3997</th>\n",
       "      <td>2019-12-31 19:35:07</td>\n",
       "      <td>FC00003</td>\n",
       "      <td>WH00001</td>\n",
       "      <td>36</td>\n",
       "      <td>FC00003</td>\n",
       "      <td>WH00001</td>\n",
       "      <td>1.2</td>\n",
       "      <td>인천공장</td>\n",
       "      <td>31</td>\n",
       "      <td>북부</td>\n",
       "      <td>판교창고</td>\n",
       "      <td>35</td>\n",
       "      <td>북부</td>\n",
       "    </tr>\n",
       "    <tr>\n",
       "      <th>3998</th>\n",
       "      <td>2019-12-31 21:45:07</td>\n",
       "      <td>FC00005</td>\n",
       "      <td>WH00005</td>\n",
       "      <td>34</td>\n",
       "      <td>FC00005</td>\n",
       "      <td>WH00005</td>\n",
       "      <td>0.3</td>\n",
       "      <td>대구공장</td>\n",
       "      <td>21</td>\n",
       "      <td>남부</td>\n",
       "      <td>대구창고</td>\n",
       "      <td>72</td>\n",
       "      <td>남부</td>\n",
       "    </tr>\n",
       "    <tr>\n",
       "      <th>3999</th>\n",
       "      <td>2019-12-31 23:19:37</td>\n",
       "      <td>FC00005</td>\n",
       "      <td>WH00005</td>\n",
       "      <td>16</td>\n",
       "      <td>FC00005</td>\n",
       "      <td>WH00005</td>\n",
       "      <td>0.3</td>\n",
       "      <td>대구공장</td>\n",
       "      <td>21</td>\n",
       "      <td>남부</td>\n",
       "      <td>대구창고</td>\n",
       "      <td>72</td>\n",
       "      <td>남부</td>\n",
       "    </tr>\n",
       "  </tbody>\n",
       "</table>\n",
       "<p>4000 rows × 13 columns</p>\n",
       "</div>"
      ],
      "text/plain": [
       "          TransactionDate     ToFC   FromWH  Quantity     FCID     WHID  Cost  \\\n",
       "0     2019-01-01 02:11:10  FC00004  WH00003        33  FC00004  WH00003   1.1   \n",
       "1     2019-01-01 06:12:42  FC00007  WH00006        19  FC00007  WH00006   1.3   \n",
       "2     2019-01-01 06:32:32  FC00006  WH00004        31  FC00006  WH00004   0.9   \n",
       "3     2019-01-01 07:17:06  FC00002  WH00003        18  FC00002  WH00003   1.6   \n",
       "4     2019-01-01 07:52:18  FC00001  WH00002        30  FC00001  WH00002   0.8   \n",
       "...                   ...      ...      ...       ...      ...      ...   ...   \n",
       "3995  2019-12-31 11:27:51  FC00007  WH00006        29  FC00007  WH00006   1.3   \n",
       "3996  2019-12-31 17:10:21  FC00002  WH00003        35  FC00002  WH00003   1.6   \n",
       "3997  2019-12-31 19:35:07  FC00003  WH00001        36  FC00003  WH00001   1.2   \n",
       "3998  2019-12-31 21:45:07  FC00005  WH00005        34  FC00005  WH00005   0.3   \n",
       "3999  2019-12-31 23:19:37  FC00005  WH00005        16  FC00005  WH00005   0.3   \n",
       "\n",
       "     FCName  FCDemand FCRegion WHName  WHSupply WHRegion  \n",
       "0      대전공장        25       북부   수원창고        42       북부  \n",
       "1      부산공장        25       남부   광주창고        65       남부  \n",
       "2      광주공장        30       남부   대전창고        60       남부  \n",
       "3      수원공장        29       북부   수원창고        42       북부  \n",
       "4      서울공장        28       북부   용인창고        41       북부  \n",
       "...     ...       ...      ...    ...       ...      ...  \n",
       "3995   부산공장        25       남부   광주창고        65       남부  \n",
       "3996   수원공장        29       북부   수원창고        42       북부  \n",
       "3997   인천공장        31       북부   판교창고        35       북부  \n",
       "3998   대구공장        21       남부   대구창고        72       남부  \n",
       "3999   대구공장        21       남부   대구창고        72       남부  \n",
       "\n",
       "[4000 rows x 13 columns]"
      ]
     },
     "execution_count": 4,
     "metadata": {},
     "output_type": "execute_result"
    }
   ],
   "source": [
    "#그다음은 창고정보(w) 조인\n",
    "join_data = pd.merge(join_data, w, on = 'WHID', how='left')\n",
    "join_data"
   ]
  },
  {
   "cell_type": "code",
   "execution_count": 5,
   "metadata": {},
   "outputs": [
    {
     "data": {
      "text/html": [
       "<div>\n",
       "<style scoped>\n",
       "    .dataframe tbody tr th:only-of-type {\n",
       "        vertical-align: middle;\n",
       "    }\n",
       "\n",
       "    .dataframe tbody tr th {\n",
       "        vertical-align: top;\n",
       "    }\n",
       "\n",
       "    .dataframe thead th {\n",
       "        text-align: right;\n",
       "    }\n",
       "</style>\n",
       "<table border=\"1\" class=\"dataframe\">\n",
       "  <thead>\n",
       "    <tr style=\"text-align: right;\">\n",
       "      <th></th>\n",
       "      <th>TransactionDate</th>\n",
       "      <th>Quantity</th>\n",
       "      <th>Cost</th>\n",
       "      <th>ToFC</th>\n",
       "      <th>FCName</th>\n",
       "      <th>FCDemand</th>\n",
       "      <th>FromWH</th>\n",
       "      <th>WHName</th>\n",
       "      <th>WHSupply</th>\n",
       "      <th>WHRegion</th>\n",
       "    </tr>\n",
       "  </thead>\n",
       "  <tbody>\n",
       "    <tr>\n",
       "      <th>0</th>\n",
       "      <td>2019-01-01 02:11:10</td>\n",
       "      <td>33</td>\n",
       "      <td>1.1</td>\n",
       "      <td>FC00004</td>\n",
       "      <td>대전공장</td>\n",
       "      <td>25</td>\n",
       "      <td>WH00003</td>\n",
       "      <td>수원창고</td>\n",
       "      <td>42</td>\n",
       "      <td>북부</td>\n",
       "    </tr>\n",
       "    <tr>\n",
       "      <th>1</th>\n",
       "      <td>2019-01-01 06:12:42</td>\n",
       "      <td>19</td>\n",
       "      <td>1.3</td>\n",
       "      <td>FC00007</td>\n",
       "      <td>부산공장</td>\n",
       "      <td>25</td>\n",
       "      <td>WH00006</td>\n",
       "      <td>광주창고</td>\n",
       "      <td>65</td>\n",
       "      <td>남부</td>\n",
       "    </tr>\n",
       "    <tr>\n",
       "      <th>2</th>\n",
       "      <td>2019-01-01 06:32:32</td>\n",
       "      <td>31</td>\n",
       "      <td>0.9</td>\n",
       "      <td>FC00006</td>\n",
       "      <td>광주공장</td>\n",
       "      <td>30</td>\n",
       "      <td>WH00004</td>\n",
       "      <td>대전창고</td>\n",
       "      <td>60</td>\n",
       "      <td>남부</td>\n",
       "    </tr>\n",
       "    <tr>\n",
       "      <th>3</th>\n",
       "      <td>2019-01-01 07:17:06</td>\n",
       "      <td>18</td>\n",
       "      <td>1.6</td>\n",
       "      <td>FC00002</td>\n",
       "      <td>수원공장</td>\n",
       "      <td>29</td>\n",
       "      <td>WH00003</td>\n",
       "      <td>수원창고</td>\n",
       "      <td>42</td>\n",
       "      <td>북부</td>\n",
       "    </tr>\n",
       "    <tr>\n",
       "      <th>4</th>\n",
       "      <td>2019-01-01 07:52:18</td>\n",
       "      <td>30</td>\n",
       "      <td>0.8</td>\n",
       "      <td>FC00001</td>\n",
       "      <td>서울공장</td>\n",
       "      <td>28</td>\n",
       "      <td>WH00002</td>\n",
       "      <td>용인창고</td>\n",
       "      <td>41</td>\n",
       "      <td>북부</td>\n",
       "    </tr>\n",
       "  </tbody>\n",
       "</table>\n",
       "</div>"
      ],
      "text/plain": [
       "       TransactionDate  Quantity  Cost     ToFC FCName  FCDemand   FromWH  \\\n",
       "0  2019-01-01 02:11:10        33   1.1  FC00004   대전공장        25  WH00003   \n",
       "1  2019-01-01 06:12:42        19   1.3  FC00007   부산공장        25  WH00006   \n",
       "2  2019-01-01 06:32:32        31   0.9  FC00006   광주공장        30  WH00004   \n",
       "3  2019-01-01 07:17:06        18   1.6  FC00002   수원공장        29  WH00003   \n",
       "4  2019-01-01 07:52:18        30   0.8  FC00001   서울공장        28  WH00002   \n",
       "\n",
       "  WHName  WHSupply WHRegion  \n",
       "0   수원창고        42       북부  \n",
       "1   광주창고        65       남부  \n",
       "2   대전창고        60       남부  \n",
       "3   수원창고        42       북부  \n",
       "4   용인창고        41       북부  "
      ]
     },
     "execution_count": 5,
     "metadata": {},
     "output_type": "execute_result"
    }
   ],
   "source": [
    "#이제 직관적으로 보기 쉽게 컬럼 순서 지정\n",
    "join_data = join_data[['TransactionDate', 'Quantity', 'Cost', 'ToFC', 'FCName', 'FCDemand', 'FromWH', 'WHName', 'WHSupply', 'WHRegion']]\n",
    "join_data.head()"
   ]
  },
  {
   "cell_type": "code",
   "execution_count": 6,
   "metadata": {},
   "outputs": [
    {
     "name": "stdout",
     "output_type": "stream",
     "text": [
      "2000 2000\n"
     ]
    }
   ],
   "source": [
    "#이제 Region이 북부/남부인 것으로만 나누어 저장\n",
    "north = join_data.loc[join_data['WHRegion'] == '북부']\n",
    "south = join_data.loc[join_data['WHRegion'] == '남부']\n",
    "print(len(north), len(south))"
   ]
  },
  {
   "cell_type": "markdown",
   "metadata": {},
   "source": [
    "## Tech 52. 현재 운송량과 비용을 확인하자\n",
    "이제 데이터가 잘 불러와졌다. 실제 운송량과 비용을 확인하고 지사 간 비교를 해보자."
   ]
  },
  {
   "cell_type": "code",
   "execution_count": 48,
   "metadata": {},
   "outputs": [
    {
     "name": "stdout",
     "output_type": "stream",
     "text": [
      "북부지사 총비용: 2189.3만원\n",
      "남부지사 총비용: 2062.0만원\n",
      "북부지사 총부품 운송개수: 49146개\n",
      "남부지사 총부품 운송개수: 50214개\n"
     ]
    }
   ],
   "source": [
    "#지사 간 비용 확인 -> 북부지사 > 남부지사 \n",
    "print(\"북부지사 총비용: \" + str(north['Cost'].sum()) + \"만원\")\n",
    "print(\"남부지사 총비용: \" + str(south['Cost'].sum()) + \"만원\")\n",
    "\n",
    "#지사 간 운송량 확인 -> 북부지사 < 남부지사 \n",
    "print(\"북부지사 총부품 운송개수: \" + str(north['Quantity'].sum()) + \"개\")\n",
    "print(\"남부지사 총부품 운송개수: \" + str(south['Quantity'].sum()) + \"개\")"
   ]
  },
  {
   "cell_type": "code",
   "execution_count": 49,
   "metadata": {},
   "outputs": [
    {
     "name": "stdout",
     "output_type": "stream",
     "text": [
      "북부지사 부품 1개당 운송비용: 445원\n",
      "남부지사 부품 1개당 운송비용: 410원\n"
     ]
    }
   ],
   "source": [
    "#지사 간 1개당 운송비용은? -> 위 결과에서도 보았듯 북부 > 남부 . 남부가 좀 더 효율적으로 비용을 쓰는 듯 \n",
    "tmp = (north['Cost'].sum()/ north['Quantity'].sum()) *10000\n",
    "tmp2 = (south['Cost'].sum()/ south['Quantity'].sum()) *10000\n",
    "print('북부지사 부품 1개당 운송비용: ' +str(int(tmp)) + '원') #소수점으로 나오는 것 방지를 위해 int로 바꿔줌 \n",
    "print('남부지사 부품 1개당 운송비용: ' +str(int(tmp2)) + '원')"
   ]
  },
  {
   "cell_type": "markdown",
   "metadata": {},
   "source": [
    "운송비용은 창고-> 공장 간에 발생하기 때문에, **단순히 운송비용 절감을 하는 것만으로도 전체 물류 비용을 억제**할 수 있다.  "
   ]
  },
  {
   "cell_type": "code",
   "execution_count": 10,
   "metadata": {},
   "outputs": [
    {
     "data": {
      "text/html": [
       "<div>\n",
       "<style scoped>\n",
       "    .dataframe tbody tr th:only-of-type {\n",
       "        vertical-align: middle;\n",
       "    }\n",
       "\n",
       "    .dataframe tbody tr th {\n",
       "        vertical-align: top;\n",
       "    }\n",
       "\n",
       "    .dataframe thead th {\n",
       "        text-align: right;\n",
       "    }\n",
       "</style>\n",
       "<table border=\"1\" class=\"dataframe\">\n",
       "  <thead>\n",
       "    <tr style=\"text-align: right;\">\n",
       "      <th></th>\n",
       "      <th>FCID</th>\n",
       "      <th>WHID</th>\n",
       "      <th>Cost</th>\n",
       "      <th>FCName</th>\n",
       "      <th>FCDemand</th>\n",
       "      <th>FCRegion</th>\n",
       "    </tr>\n",
       "  </thead>\n",
       "  <tbody>\n",
       "    <tr>\n",
       "      <th>0</th>\n",
       "      <td>FC00001</td>\n",
       "      <td>WH00001</td>\n",
       "      <td>0.4</td>\n",
       "      <td>서울공장</td>\n",
       "      <td>28</td>\n",
       "      <td>북부</td>\n",
       "    </tr>\n",
       "    <tr>\n",
       "      <th>1</th>\n",
       "      <td>FC00001</td>\n",
       "      <td>WH00002</td>\n",
       "      <td>0.8</td>\n",
       "      <td>서울공장</td>\n",
       "      <td>28</td>\n",
       "      <td>북부</td>\n",
       "    </tr>\n",
       "    <tr>\n",
       "      <th>2</th>\n",
       "      <td>FC00001</td>\n",
       "      <td>WH00003</td>\n",
       "      <td>1.5</td>\n",
       "      <td>서울공장</td>\n",
       "      <td>28</td>\n",
       "      <td>북부</td>\n",
       "    </tr>\n",
       "    <tr>\n",
       "      <th>3</th>\n",
       "      <td>FC00002</td>\n",
       "      <td>WH00001</td>\n",
       "      <td>0.9</td>\n",
       "      <td>수원공장</td>\n",
       "      <td>29</td>\n",
       "      <td>북부</td>\n",
       "    </tr>\n",
       "    <tr>\n",
       "      <th>4</th>\n",
       "      <td>FC00002</td>\n",
       "      <td>WH00002</td>\n",
       "      <td>0.8</td>\n",
       "      <td>수원공장</td>\n",
       "      <td>29</td>\n",
       "      <td>북부</td>\n",
       "    </tr>\n",
       "  </tbody>\n",
       "</table>\n",
       "</div>"
      ],
      "text/plain": [
       "      FCID     WHID  Cost FCName  FCDemand FCRegion\n",
       "0  FC00001  WH00001   0.4   서울공장        28       북부\n",
       "1  FC00001  WH00002   0.8   서울공장        28       북부\n",
       "2  FC00001  WH00003   1.5   서울공장        28       북부\n",
       "3  FC00002  WH00001   0.9   수원공장        29       북부\n",
       "4  FC00002  WH00002   0.8   수원공장        29       북부"
      ]
     },
     "execution_count": 10,
     "metadata": {},
     "output_type": "execute_result"
    }
   ],
   "source": [
    "#지사 간 평균 운송비용 확인\n",
    "cost_chk = pd.merge(cost, fac, on = 'FCID', how= 'left') #앞서 만든 north, south는 운영실적이 있는 데이터에 대해서만 걸러졌으므로 비용 데이터를 다시 만든다.\n",
    "cost_chk.head()"
   ]
  },
  {
   "cell_type": "code",
   "execution_count": 11,
   "metadata": {},
   "outputs": [
    {
     "name": "stdout",
     "output_type": "stream",
     "text": [
      "북부 평균비용:  1.075\n",
      "남부 평균비용:  1.05\n"
     ]
    }
   ],
   "source": [
    "#북부/ 남부별로 평균비용값 확인\n",
    "print('북부 평균비용: ', cost_chk.loc[(cost_chk['FCRegion'] == '북부')]['Cost'].mean())\n",
    "print('남부 평균비용: ', cost_chk.loc[(cost_chk['FCRegion'] == '남부')]['Cost'].mean())"
   ]
  },
  {
   "cell_type": "markdown",
   "metadata": {},
   "source": [
    "둘의 평균비용은 거의 같다. 드는 비용은 동일한데,  \n",
    "앞서 운영실적으로 살펴봤을 때는 북부가 운영비용을 많이 쓰는데 운송한 수는 더 적었으므로 *남부*가 더 효율적인 운송을 하고 있음을 알 수있다.  \n",
    "이제 숫자뿐 아니라 실제로 시각화를 통해서 물류 최적 경로를 분석하고 컨설팅해보자."
   ]
  },
  {
   "cell_type": "markdown",
   "metadata": {},
   "source": [
    "## Tech 53. 네트워크 가시화하기 (기초)\n",
    "최적화 라이브러리는 다양한 게 있지만 여기서는 `NetworkX` 를 써본다."
   ]
  },
  {
   "cell_type": "code",
   "execution_count": 12,
   "metadata": {},
   "outputs": [
    {
     "data": {
      "image/png": "[encoded data removed]",
      "text/plain": [
       "<Figure size 432x288 with 1 Axes>"
      ]
     },
     "metadata": {},
     "output_type": "display_data"
    }
   ],
   "source": [
    "import networkx as nx\n",
    "import matplotlib.pyplot as plt\n",
    "\n",
    "#그래프 객체 설정\n",
    "G = nx.Graph()\n",
    "\n",
    "#노드 설정\n",
    "G.add_node('nodeA')\n",
    "G.add_node('nodeB')\n",
    "G.add_node('nodeC')\n",
    "\n",
    "#엣지 설정\n",
    "G.add_edge('nodeA', 'nodeB')\n",
    "G.add_edge('nodeA', 'nodeC')\n",
    "G.add_edge('nodeB', 'nodeC')\n",
    "\n",
    "#좌표 설정\n",
    "pos = {}\n",
    "pos['nodeA'] = (0,0)\n",
    "pos['nodeB'] = (1,1)\n",
    "pos['nodeC'] = (0,1)\n",
    "\n",
    "#그리기\n",
    "nx.draw(G, pos, with_labels= True)\n",
    "plt.show()"
   ]
  },
  {
   "cell_type": "code",
   "execution_count": 13,
   "metadata": {},
   "outputs": [
    {
     "data": {
      "text/plain": [
       "{'nodeA': (0, 0), 'nodeB': (1, 1), 'nodeC': (0, 1)}"
      ]
     },
     "execution_count": 13,
     "metadata": {},
     "output_type": "execute_result"
    }
   ],
   "source": [
    "pos"
   ]
  },
  {
   "cell_type": "markdown",
   "metadata": {},
   "source": [
    "## Tech 54. 네트워크에 노드를 추가(기초)"
   ]
  },
  {
   "cell_type": "code",
   "execution_count": 14,
   "metadata": {},
   "outputs": [
    {
     "data": {
      "image/png": "[encoded data removed]",
      "text/plain": [
       "<Figure size 432x288 with 1 Axes>"
      ]
     },
     "metadata": {},
     "output_type": "display_data"
    }
   ],
   "source": [
    "#앞서 만든 그림에 새로운 노드 nodeD(nodeA와 연결되는)를 추가한다.\n",
    "\n",
    "#노드\n",
    "G.add_node('nodeD')\n",
    "#엣지\n",
    "G.add_edge('nodeA', 'nodeD')\n",
    "#좌표설정\n",
    "pos['nodeD'] = (1,0)\n",
    "\n",
    "#그리기\n",
    "nx.draw(G, pos, with_labels = True)"
   ]
  },
  {
   "cell_type": "markdown",
   "metadata": {},
   "source": [
    "## Tech 55. 경로에 가중치 부여하기(기초)\n",
    "여기까지가 기본적인 경로를 그려봤다면, 그 경로를 더 많이 사용할수록 가중치를 부여해야 한다.  \n",
    "가중치를 더 많이 부여할수록 노드 사이의 '엣지'의 굵기를 더 굵게 하면 된다.  \n",
    "가중치를 얻어오는 방법은 여러가지이지만 여기서는 csv 파일에 저장된 가중치 정보를 데이터프레임으로 읽어들여 사용한다."
   ]
  },
  {
   "cell_type": "code",
   "execution_count": 15,
   "metadata": {},
   "outputs": [
    {
     "data": {
      "text/html": [
       "<div>\n",
       "<style scoped>\n",
       "    .dataframe tbody tr th:only-of-type {\n",
       "        vertical-align: middle;\n",
       "    }\n",
       "\n",
       "    .dataframe tbody tr th {\n",
       "        vertical-align: top;\n",
       "    }\n",
       "\n",
       "    .dataframe thead th {\n",
       "        text-align: right;\n",
       "    }\n",
       "</style>\n",
       "<table border=\"1\" class=\"dataframe\">\n",
       "  <thead>\n",
       "    <tr style=\"text-align: right;\">\n",
       "      <th></th>\n",
       "      <th>A</th>\n",
       "      <th>B</th>\n",
       "      <th>C</th>\n",
       "      <th>D</th>\n",
       "      <th>E</th>\n",
       "    </tr>\n",
       "  </thead>\n",
       "  <tbody>\n",
       "    <tr>\n",
       "      <th>0</th>\n",
       "      <td>0.639921</td>\n",
       "      <td>0.143353</td>\n",
       "      <td>0.944669</td>\n",
       "      <td>0.521848</td>\n",
       "      <td>0.000000</td>\n",
       "    </tr>\n",
       "    <tr>\n",
       "      <th>1</th>\n",
       "      <td>0.264556</td>\n",
       "      <td>0.000000</td>\n",
       "      <td>0.456150</td>\n",
       "      <td>0.568434</td>\n",
       "      <td>0.000000</td>\n",
       "    </tr>\n",
       "    <tr>\n",
       "      <th>2</th>\n",
       "      <td>0.617635</td>\n",
       "      <td>0.612096</td>\n",
       "      <td>0.616934</td>\n",
       "      <td>0.943748</td>\n",
       "      <td>0.000000</td>\n",
       "    </tr>\n",
       "    <tr>\n",
       "      <th>3</th>\n",
       "      <td>0.000000</td>\n",
       "      <td>0.000000</td>\n",
       "      <td>0.697631</td>\n",
       "      <td>0.060225</td>\n",
       "      <td>0.666767</td>\n",
       "    </tr>\n",
       "    <tr>\n",
       "      <th>4</th>\n",
       "      <td>0.670638</td>\n",
       "      <td>0.210383</td>\n",
       "      <td>0.000000</td>\n",
       "      <td>0.315428</td>\n",
       "      <td>0.000000</td>\n",
       "    </tr>\n",
       "  </tbody>\n",
       "</table>\n",
       "</div>"
      ],
      "text/plain": [
       "          A         B         C         D         E\n",
       "0  0.639921  0.143353  0.944669  0.521848  0.000000\n",
       "1  0.264556  0.000000  0.456150  0.568434  0.000000\n",
       "2  0.617635  0.612096  0.616934  0.943748  0.000000\n",
       "3  0.000000  0.000000  0.697631  0.060225  0.666767\n",
       "4  0.670638  0.210383  0.000000  0.315428  0.000000"
      ]
     },
     "metadata": {},
     "output_type": "display_data"
    },
    {
     "data": {
      "text/html": [
       "<div>\n",
       "<style scoped>\n",
       "    .dataframe tbody tr th:only-of-type {\n",
       "        vertical-align: middle;\n",
       "    }\n",
       "\n",
       "    .dataframe tbody tr th {\n",
       "        vertical-align: top;\n",
       "    }\n",
       "\n",
       "    .dataframe thead th {\n",
       "        text-align: right;\n",
       "    }\n",
       "</style>\n",
       "<table border=\"1\" class=\"dataframe\">\n",
       "  <thead>\n",
       "    <tr style=\"text-align: right;\">\n",
       "      <th></th>\n",
       "      <th>A</th>\n",
       "      <th>B</th>\n",
       "      <th>C</th>\n",
       "      <th>D</th>\n",
       "      <th>E</th>\n",
       "    </tr>\n",
       "  </thead>\n",
       "  <tbody>\n",
       "    <tr>\n",
       "      <th>0</th>\n",
       "      <td>0</td>\n",
       "      <td>0</td>\n",
       "      <td>2</td>\n",
       "      <td>2</td>\n",
       "      <td>1</td>\n",
       "    </tr>\n",
       "    <tr>\n",
       "      <th>1</th>\n",
       "      <td>0</td>\n",
       "      <td>2</td>\n",
       "      <td>0</td>\n",
       "      <td>2</td>\n",
       "      <td>1</td>\n",
       "    </tr>\n",
       "  </tbody>\n",
       "</table>\n",
       "</div>"
      ],
      "text/plain": [
       "   A  B  C  D  E\n",
       "0  0  0  2  2  1\n",
       "1  0  2  0  2  1"
      ]
     },
     "metadata": {},
     "output_type": "display_data"
    }
   ],
   "source": [
    "import pandas as pd\n",
    "import numpy as np\n",
    "import matplotlib.pyplot as plt\n",
    "import networkx as nx\n",
    "\n",
    "#데이터 불러오기\n",
    "df_w = pd.read_csv('6장/network_weight.csv') #가중치\n",
    "df_p = pd.read_csv('6장/network_pos.csv') #좌표\n",
    "\n",
    "display(df_w, df_p)"
   ]
  },
  {
   "cell_type": "markdown",
   "metadata": {},
   "source": [
    "교재에서 주어진 예제 데이터에는 A에서 E까지 5개 노드가 있고, df_w에는 각 노드 간(엣지)의 가중치, df_p에는 노드 좌표가 들어있다."
   ]
  },
  {
   "cell_type": "code",
   "execution_count": 16,
   "metadata": {
    "scrolled": true
   },
   "outputs": [
    {
     "data": {
      "text/plain": [
       "[6.39921,\n",
       " 1.4335300000000002,\n",
       " 9.44669,\n",
       " 5.21848,\n",
       " 0.0,\n",
       " 2.64556,\n",
       " 0.0,\n",
       " 4.5615,\n",
       " 5.68434,\n",
       " 0.0,\n",
       " 6.17635,\n",
       " 6.12096,\n",
       " 6.16934,\n",
       " 9.43748,\n",
       " 0.0,\n",
       " 0.0,\n",
       " 0.0,\n",
       " 6.97631,\n",
       " 0.60225,\n",
       " 6.66767,\n",
       " 6.706379999999999,\n",
       " 2.10383,\n",
       " 0.0,\n",
       " 3.15428,\n",
       " 0.0]"
      ]
     },
     "execution_count": 16,
     "metadata": {},
     "output_type": "execute_result"
    }
   ],
   "source": [
    "#엣지 가중치 리스트화-> 각 행, 열에 해당하는 가중치를 df_w에서 뽑아서 넣기(너무 값이 작으므로 10 곱함)\n",
    "size = 10\n",
    "edge_w = []\n",
    "\n",
    "for i in range(len(df_w)):\n",
    "    for j in range(len(df_w.columns)):\n",
    "        edge_w.append(df_w.iloc[i][j]*size)\n",
    "        \n",
    "edge_w"
   ]
  },
  {
   "cell_type": "code",
   "execution_count": 17,
   "metadata": {},
   "outputs": [
    {
     "data": {
      "text/html": [
       "<div>\n",
       "<style scoped>\n",
       "    .dataframe tbody tr th:only-of-type {\n",
       "        vertical-align: middle;\n",
       "    }\n",
       "\n",
       "    .dataframe tbody tr th {\n",
       "        vertical-align: top;\n",
       "    }\n",
       "\n",
       "    .dataframe thead th {\n",
       "        text-align: right;\n",
       "    }\n",
       "</style>\n",
       "<table border=\"1\" class=\"dataframe\">\n",
       "  <thead>\n",
       "    <tr style=\"text-align: right;\">\n",
       "      <th></th>\n",
       "      <th>A</th>\n",
       "      <th>B</th>\n",
       "      <th>C</th>\n",
       "      <th>D</th>\n",
       "      <th>E</th>\n",
       "    </tr>\n",
       "  </thead>\n",
       "  <tbody>\n",
       "    <tr>\n",
       "      <th>0</th>\n",
       "      <td>0</td>\n",
       "      <td>0</td>\n",
       "      <td>2</td>\n",
       "      <td>2</td>\n",
       "      <td>1</td>\n",
       "    </tr>\n",
       "    <tr>\n",
       "      <th>1</th>\n",
       "      <td>0</td>\n",
       "      <td>2</td>\n",
       "      <td>0</td>\n",
       "      <td>2</td>\n",
       "      <td>1</td>\n",
       "    </tr>\n",
       "  </tbody>\n",
       "</table>\n",
       "</div>"
      ],
      "text/plain": [
       "   A  B  C  D  E\n",
       "0  0  0  2  2  1\n",
       "1  0  2  0  2  1"
      ]
     },
     "execution_count": 17,
     "metadata": {},
     "output_type": "execute_result"
    }
   ],
   "source": [
    "df_p"
   ]
  },
  {
   "cell_type": "code",
   "execution_count": 18,
   "metadata": {},
   "outputs": [
    {
     "data": {
      "text/plain": [
       "0"
      ]
     },
     "execution_count": 18,
     "metadata": {},
     "output_type": "execute_result"
    }
   ],
   "source": [
    "df_p.loc[1, 'A']"
   ]
  },
  {
   "cell_type": "code",
   "execution_count": 19,
   "metadata": {},
   "outputs": [
    {
     "data": {
      "text/plain": [
       "2"
      ]
     },
     "execution_count": 19,
     "metadata": {},
     "output_type": "execute_result"
    }
   ],
   "source": [
    "df_p['B'][1]"
   ]
  },
  {
   "cell_type": "code",
   "execution_count": 20,
   "metadata": {},
   "outputs": [
    {
     "data": {
      "image/png": "[encoded data removed]",
      "text/plain": [
       "<Figure size 432x288 with 1 Axes>"
      ]
     },
     "metadata": {},
     "output_type": "display_data"
    }
   ],
   "source": [
    "#객체\n",
    "G = nx.Graph()\n",
    "\n",
    "#노드 5개 설정 \n",
    "for i in range(len(df_w.columns)):\n",
    "    G.add_node(df_w.columns[i])\n",
    "    \n",
    "#엣지 설정(노드 5개중 2개씩 뽑아 연결-자기자신과 연결하거나 중복되어도 됨!)\n",
    "for i in range(len(df_w.columns)):\n",
    "    for j in range(len(df_w.columns)):\n",
    "        G.add_edge(df_w.columns[i], df_w.columns[j])\n",
    "        \n",
    "#좌표 설정\n",
    "pos = {}\n",
    "for i in range(len(df_w.columns)):\n",
    "    node = df_w.columns[i]\n",
    "    a1 = df_p.loc[0, node]\n",
    "    a2 = df_p.loc[1, node]\n",
    "    pos[node] = (a1, a2)  #pos[노드] = (좌표) 임을 이용 \n",
    "    #또는 다음 코드도 동일 \n",
    "    #pos[node] = (df_p[node][0], df_p[node][1]) \n",
    "    \n",
    "#그리기\n",
    "nx.draw(G, pos, with_labels=True)\n",
    "  #             font_size = 16, node_size = 1000, node_color= 'k', font_color = 'w', width = edge_w) #가중치는 width 옵션으로 지정 \n",
    "plt.show()"
   ]
  },
  {
   "cell_type": "code",
   "execution_count": 21,
   "metadata": {},
   "outputs": [
    {
     "data": {
      "image/png": "[encoded data removed]",
      "text/plain": [
       "<Figure size 432x288 with 1 Axes>"
      ]
     },
     "metadata": {},
     "output_type": "display_data"
    }
   ],
   "source": [
    "#엣지에 가중치 추가, 꾸미기\n",
    "nx.draw(G, pos, with_labels=True,\n",
    "              font_size = 16, node_size = 1000, node_color= 'k', font_color = 'w', width = edge_w) #가중치는 width 옵션으로 지정 \n",
    "plt.show()"
   ]
  },
  {
   "cell_type": "markdown",
   "metadata": {},
   "source": [
    "## Tech 56. 운송 경로 정보를 불러오자.\n",
    "위에서 쓴 기본적인 네트워크 코드를 사용해 직접 우리의 물류 데이터를 가시화해보자.  \n",
    "네트워크를 가시화하면 숫자만으로는 알기 어려운 물류의 쏠림과 같은 전체 그림을 파악할 수 있다.  \n",
    "먼저 운송경로 데이터가 없으므로 이를 불러오고 tech 57번에서 가시화한다.  \n",
    "\n",
    "---\n",
    "- trans_route.csv : 운송경로\n",
    "- trans_route_pos.csv : 창고 및 공장 위치정보\n",
    "- trans_cost.csv : 창고-공장 간 운송비용\n",
    "- demand.csv : 공장 제품 생산량 수요\n",
    "- supply.csv : 창고가 공급할수 있는 최대 부품 수\n",
    "- trans_route_new.csv : 새로 설계한 운송경로"
   ]
  },
  {
   "cell_type": "code",
   "execution_count": 22,
   "metadata": {},
   "outputs": [
    {
     "data": {
      "text/html": [
       "<div>\n",
       "<style scoped>\n",
       "    .dataframe tbody tr th:only-of-type {\n",
       "        vertical-align: middle;\n",
       "    }\n",
       "\n",
       "    .dataframe tbody tr th {\n",
       "        vertical-align: top;\n",
       "    }\n",
       "\n",
       "    .dataframe thead th {\n",
       "        text-align: right;\n",
       "    }\n",
       "</style>\n",
       "<table border=\"1\" class=\"dataframe\">\n",
       "  <thead>\n",
       "    <tr style=\"text-align: right;\">\n",
       "      <th></th>\n",
       "      <th>F1</th>\n",
       "      <th>F2</th>\n",
       "      <th>F3</th>\n",
       "      <th>F4</th>\n",
       "    </tr>\n",
       "    <tr>\n",
       "      <th>공장</th>\n",
       "      <th></th>\n",
       "      <th></th>\n",
       "      <th></th>\n",
       "      <th></th>\n",
       "    </tr>\n",
       "  </thead>\n",
       "  <tbody>\n",
       "    <tr>\n",
       "      <th>W1</th>\n",
       "      <td>15</td>\n",
       "      <td>15</td>\n",
       "      <td>0</td>\n",
       "      <td>5</td>\n",
       "    </tr>\n",
       "    <tr>\n",
       "      <th>W2</th>\n",
       "      <td>5</td>\n",
       "      <td>0</td>\n",
       "      <td>30</td>\n",
       "      <td>5</td>\n",
       "    </tr>\n",
       "    <tr>\n",
       "      <th>W3</th>\n",
       "      <td>10</td>\n",
       "      <td>15</td>\n",
       "      <td>2</td>\n",
       "      <td>15</td>\n",
       "    </tr>\n",
       "  </tbody>\n",
       "</table>\n",
       "</div>"
      ],
      "text/plain": [
       "    F1  F2  F3  F4\n",
       "공장                \n",
       "W1  15  15   0   5\n",
       "W2   5   0  30   5\n",
       "W3  10  15   2  15"
      ]
     },
     "execution_count": 22,
     "metadata": {},
     "output_type": "execute_result"
    }
   ],
   "source": [
    "#어떤 제품의 부품에 대해, 창고 W1, W2, W3 에서 -> 공장 F1, F2, F3, F4로 필요한 양의 부품을 운송한다.\n",
    "#우리는 최소의 비용으로 운송을 하고 싶으므로, 어떤 창고에서 어떤 공장으로 어느 정도 양을 운송해야 하는지 그 최적값을 찾아야 함.\n",
    "\n",
    "#이전에 어떤 창고에서 어떤 공장으로 어느 정도 양을 운송했는지를 담은 데이터(운송경로) 를 불러옴\n",
    "df_tr = pd.read_csv('6장/trans_route.csv', index_col = '공장')\n",
    "df_tr"
   ]
  },
  {
   "cell_type": "code",
   "execution_count": 23,
   "metadata": {},
   "outputs": [
    {
     "data": {
      "text/html": [
       "<div>\n",
       "<style scoped>\n",
       "    .dataframe tbody tr th:only-of-type {\n",
       "        vertical-align: middle;\n",
       "    }\n",
       "\n",
       "    .dataframe tbody tr th {\n",
       "        vertical-align: top;\n",
       "    }\n",
       "\n",
       "    .dataframe thead th {\n",
       "        text-align: right;\n",
       "    }\n",
       "</style>\n",
       "<table border=\"1\" class=\"dataframe\">\n",
       "  <thead>\n",
       "    <tr style=\"text-align: right;\">\n",
       "      <th></th>\n",
       "      <th>W1</th>\n",
       "      <th>W2</th>\n",
       "      <th>W3</th>\n",
       "      <th>F1</th>\n",
       "      <th>F2</th>\n",
       "      <th>F3</th>\n",
       "      <th>F4</th>\n",
       "    </tr>\n",
       "  </thead>\n",
       "  <tbody>\n",
       "    <tr>\n",
       "      <th>0</th>\n",
       "      <td>0</td>\n",
       "      <td>0</td>\n",
       "      <td>0</td>\n",
       "      <td>4.0</td>\n",
       "      <td>4.0</td>\n",
       "      <td>4.0</td>\n",
       "      <td>4.0</td>\n",
       "    </tr>\n",
       "    <tr>\n",
       "      <th>1</th>\n",
       "      <td>1</td>\n",
       "      <td>2</td>\n",
       "      <td>3</td>\n",
       "      <td>0.5</td>\n",
       "      <td>1.5</td>\n",
       "      <td>2.5</td>\n",
       "      <td>3.5</td>\n",
       "    </tr>\n",
       "  </tbody>\n",
       "</table>\n",
       "</div>"
      ],
      "text/plain": [
       "   W1  W2  W3   F1   F2   F3   F4\n",
       "0   0   0   0  4.0  4.0  4.0  4.0\n",
       "1   1   2   3  0.5  1.5  2.5  3.5"
      ]
     },
     "execution_count": 23,
     "metadata": {},
     "output_type": "execute_result"
    }
   ],
   "source": [
    "df_pos = pd.read_csv('6장/trans_route_pos.csv')\n",
    "df_pos"
   ]
  },
  {
   "cell_type": "markdown",
   "metadata": {},
   "source": [
    "## Tech 57. 운송경로 정보로 네트워크 가시화하기\n",
    "위의 `df_tr` 데이터를 네트워크화해보자."
   ]
  },
  {
   "cell_type": "code",
   "execution_count": 24,
   "metadata": {},
   "outputs": [],
   "source": [
    "#가중치로 사용\n",
    "df_tr = pd.read_csv('6장/trans_route.csv', index_col = '공장')\n",
    "#좌표로 사용\n",
    "df_pos = pd.read_csv('6장/trans_route_pos.csv')"
   ]
  },
  {
   "cell_type": "code",
   "execution_count": 25,
   "metadata": {},
   "outputs": [
    {
     "data": {
      "image/png": "[encoded data removed]",
      "text/plain": [
       "<Figure size 432x288 with 1 Axes>"
      ]
     },
     "metadata": {},
     "output_type": "display_data"
    }
   ],
   "source": [
    "#객체\n",
    "G = nx.Graph()\n",
    "\n",
    "#노드 설정(W 3개, F 4개)\n",
    "for i in range(len(df_pos.columns)):\n",
    "    G.add_node(df_pos.columns[i])\n",
    "    \n",
    "#엣지 설정(W에서 하나 - F에서 하나를 연결)\n",
    "for i in range(0, 3):\n",
    "    for j in range(3, len(df_pos.columns)):\n",
    "        G.add_edge(df_pos.columns[i], df_pos.columns[j])\n",
    "        \n",
    "#좌표 설정\n",
    "pos = {}\n",
    "for i in range(len(df_pos.columns)):\n",
    "    node = df_pos.columns[i]\n",
    "    pos[node] = (df_pos[node][0],df_pos[node][1])\n",
    "    \n",
    "#그리기\n",
    "nx.draw(G, pos, with_labels=True)\n",
    "plt.show()"
   ]
  },
  {
   "cell_type": "code",
   "execution_count": 26,
   "metadata": {},
   "outputs": [
    {
     "data": {
      "text/plain": [
       "[1.5, 1.5, 0.0, 0.5, 0.5, 0.0, 3.0, 0.5, 1.0, 1.5, 0.2, 1.5]"
      ]
     },
     "execution_count": 26,
     "metadata": {},
     "output_type": "execute_result"
    }
   ],
   "source": [
    "#그런데 위에처럼 하면 가중치가 엣지에 제대로 안 들어가므로, 가중치 리스트를 만들어 그래프를 더 꾸며주자!\n",
    "\n",
    "sy = []\n",
    "size = 0.1 #가중치 값이 너무 커서 줄임 (그대로 쓰면 엣지가 엄청 굵게나옴)\n",
    "for i in range(len(df_tr.index)):\n",
    "    for j in range(len(df_tr.columns)):\n",
    "        sy.append(df_tr.iloc[i,j]*size)\n",
    "        \n",
    "sy"
   ]
  },
  {
   "cell_type": "code",
   "execution_count": 27,
   "metadata": {},
   "outputs": [
    {
     "data": {
      "image/png": "[encoded data removed]",
      "text/plain": [
       "<Figure size 432x288 with 1 Axes>"
      ]
     },
     "metadata": {},
     "output_type": "display_data"
    }
   ],
   "source": [
    "#그래프 다시 그리기\n",
    "nx.draw(G, pos, with_labels=True,\n",
    "               font_size = 16, node_size = 1000, node_color = 'k', font_color= 'w', width = sy) #width에 가중치 리스트 설정\n",
    "plt.show()"
   ]
  },
  {
   "cell_type": "code",
   "execution_count": 28,
   "metadata": {},
   "outputs": [
    {
     "data": {
      "text/plain": [
       "EdgeView([('W1', 'F1'), ('W1', 'F2'), ('W1', 'F3'), ('W1', 'F4'), ('W2', 'F1'), ('W2', 'F2'), ('W2', 'F3'), ('W2', 'F4'), ('W3', 'F1'), ('W3', 'F2'), ('W3', 'F3'), ('W3', 'F4')])"
      ]
     },
     "execution_count": 28,
     "metadata": {},
     "output_type": "execute_result"
    }
   ],
   "source": [
    "G.edges"
   ]
  },
  {
   "cell_type": "code",
   "execution_count": 29,
   "metadata": {},
   "outputs": [
    {
     "data": {
      "text/plain": [
       "12"
      ]
     },
     "execution_count": 29,
     "metadata": {},
     "output_type": "execute_result"
    }
   ],
   "source": [
    "len(G.edges)"
   ]
  },
  {
   "cell_type": "code",
   "execution_count": 30,
   "metadata": {},
   "outputs": [
    {
     "data": {
      "text/html": [
       "<div>\n",
       "<style scoped>\n",
       "    .dataframe tbody tr th:only-of-type {\n",
       "        vertical-align: middle;\n",
       "    }\n",
       "\n",
       "    .dataframe tbody tr th {\n",
       "        vertical-align: top;\n",
       "    }\n",
       "\n",
       "    .dataframe thead th {\n",
       "        text-align: right;\n",
       "    }\n",
       "</style>\n",
       "<table border=\"1\" class=\"dataframe\">\n",
       "  <thead>\n",
       "    <tr style=\"text-align: right;\">\n",
       "      <th></th>\n",
       "      <th>W1</th>\n",
       "      <th>W2</th>\n",
       "      <th>W3</th>\n",
       "      <th>F1</th>\n",
       "      <th>F2</th>\n",
       "      <th>F3</th>\n",
       "      <th>F4</th>\n",
       "    </tr>\n",
       "  </thead>\n",
       "  <tbody>\n",
       "    <tr>\n",
       "      <th>0</th>\n",
       "      <td>0</td>\n",
       "      <td>0</td>\n",
       "      <td>0</td>\n",
       "      <td>4.0</td>\n",
       "      <td>4.0</td>\n",
       "      <td>4.0</td>\n",
       "      <td>4.0</td>\n",
       "    </tr>\n",
       "    <tr>\n",
       "      <th>1</th>\n",
       "      <td>1</td>\n",
       "      <td>2</td>\n",
       "      <td>3</td>\n",
       "      <td>0.5</td>\n",
       "      <td>1.5</td>\n",
       "      <td>2.5</td>\n",
       "      <td>3.5</td>\n",
       "    </tr>\n",
       "  </tbody>\n",
       "</table>\n",
       "</div>"
      ],
      "text/plain": [
       "   W1  W2  W3   F1   F2   F3   F4\n",
       "0   0   0   0  4.0  4.0  4.0  4.0\n",
       "1   1   2   3  0.5  1.5  2.5  3.5"
      ]
     },
     "execution_count": 30,
     "metadata": {},
     "output_type": "execute_result"
    }
   ],
   "source": [
    "df_pos"
   ]
  },
  {
   "cell_type": "code",
   "execution_count": 31,
   "metadata": {},
   "outputs": [
    {
     "name": "stdout",
     "output_type": "stream",
     "text": [
      "1 [('W1', 'W2')]\n"
     ]
    }
   ],
   "source": [
    "#객체\n",
    "G = nx.Graph()\n",
    "\n",
    "#노드 설정(W 3개, F 4개)\n",
    "for i in range(len(df_pos.columns)):\n",
    "    G.add_node(df_pos.columns[i])\n",
    "    \n",
    "G.add_edge(df_pos.columns[0], df_pos.columns[1])\n",
    "print(len(G.edges), G.edges)"
   ]
  },
  {
   "cell_type": "code",
   "execution_count": 32,
   "metadata": {},
   "outputs": [
    {
     "name": "stdout",
     "output_type": "stream",
     "text": [
      "1 1\n"
     ]
    }
   ],
   "source": [
    "num_pre = 0\n",
    "if num_pre < len(G.edges):\n",
    "    num_pre = len(G.edges)\n",
    "    \n",
    "print(num_pre, len(G.edges))"
   ]
  },
  {
   "cell_type": "code",
   "execution_count": 33,
   "metadata": {
    "scrolled": true
   },
   "outputs": [
    {
     "name": "stdout",
     "output_type": "stream",
     "text": [
      "1\n",
      "[0]\n",
      "2\n",
      "[0, 0]\n",
      "3\n",
      "[0, 0, 1.5]\n",
      "4\n",
      "[0, 0, 1.5, 1.5]\n",
      "5\n",
      "[0, 0, 1.5, 1.5, 0]\n",
      "6\n",
      "[0, 0, 1.5, 1.5, 0, 0.5]\n",
      "7\n",
      "[0, 0, 1.5, 1.5, 0, 0.5, 0]\n",
      "8\n",
      "[0, 0, 1.5, 1.5, 0, 0.5, 0, 0.5]\n",
      "9\n",
      "[0, 0, 1.5, 1.5, 0, 0.5, 0, 0.5, 0]\n",
      "10\n",
      "[0, 0, 1.5, 1.5, 0, 0.5, 0, 0.5, 0, 3.0]\n",
      "11\n",
      "[0, 0, 1.5, 1.5, 0, 0.5, 0, 0.5, 0, 3.0, 0.5]\n",
      "12\n",
      "[0, 0, 1.5, 1.5, 0, 0.5, 0, 0.5, 0, 3.0, 0.5, 1.0]\n",
      "13\n",
      "[0, 0, 1.5, 1.5, 0, 0.5, 0, 0.5, 0, 3.0, 0.5, 1.0, 1.5]\n",
      "14\n",
      "[0, 0, 1.5, 1.5, 0, 0.5, 0, 0.5, 0, 3.0, 0.5, 1.0, 1.5, 0.2]\n",
      "15\n",
      "[0, 0, 1.5, 1.5, 0, 0.5, 0, 0.5, 0, 3.0, 0.5, 1.0, 1.5, 0.2, 1.5]\n",
      "16\n",
      "[0, 0, 1.5, 1.5, 0, 0.5, 0, 0.5, 0, 3.0, 0.5, 1.0, 1.5, 0.2, 1.5, 0]\n",
      "17\n",
      "[0, 0, 1.5, 1.5, 0, 0.5, 0, 0.5, 0, 3.0, 0.5, 1.0, 1.5, 0.2, 1.5, 0, 0]\n",
      "18\n",
      "[0, 0, 1.5, 1.5, 0, 0.5, 0, 0.5, 0, 3.0, 0.5, 1.0, 1.5, 0.2, 1.5, 0, 0, 0]\n",
      "19\n",
      "[0, 0, 1.5, 1.5, 0, 0.5, 0, 0.5, 0, 3.0, 0.5, 1.0, 1.5, 0.2, 1.5, 0, 0, 0, 0]\n",
      "20\n",
      "[0, 0, 1.5, 1.5, 0, 0.5, 0, 0.5, 0, 3.0, 0.5, 1.0, 1.5, 0.2, 1.5, 0, 0, 0, 0, 0]\n",
      "21\n",
      "[0, 0, 1.5, 1.5, 0, 0.5, 0, 0.5, 0, 3.0, 0.5, 1.0, 1.5, 0.2, 1.5, 0, 0, 0, 0, 0, 0]\n"
     ]
    },
    {
     "data": {
      "image/png": "[encoded data removed]",
      "text/plain": [
       "<Figure size 432x288 with 1 Axes>"
      ]
     },
     "metadata": {},
     "output_type": "display_data"
    }
   ],
   "source": [
    "# 교재에서 한 방법 -> df_pos의 모든 컬럼값을 뽑되 자기 자신이 아닌 경우만 노드 연결(엣지 설정) & 가중치 추가 \n",
    "## 내가 한 방법이 더 간단한거 같긴 하지만,, 교재처럼 해도 됨! 이 경우 엣지설정과 가중치 리스트를 한꺼번에 만드는 코드\n",
    "\n",
    "#객체\n",
    "G = nx.Graph()\n",
    "\n",
    "#노드 설정(W 3개, F 4개)\n",
    "for i in range(len(df_pos.columns)):\n",
    "    G.add_node(df_pos.columns[i])\n",
    "\n",
    "    \n",
    "#----------------------------------------- 엣지와 가중치 리스트 설정을 한번에! \n",
    "num_pre = 0\n",
    "edge_w = [] #가중치 리스트. for문을 통해 가중치(weight) 값을 하나하나 쌓을것 \n",
    "size = 0.1\n",
    "\n",
    "for i in range(len(df_pos.columns)):\n",
    "    for j in range(len(df_pos.columns)):\n",
    "        if i != j :\n",
    "            #이 경우에만 엣지 설정 -> 자기자신에 대해서는 X, 다만 W끼리, F끼리도 엣지 설정할 수 있음 (가중치만 안 넣어주면 됨)\n",
    "            G.add_edge(df_pos.columns[i], df_pos.columns[j])\n",
    "            #엣지 가중치 추가\n",
    "            if num_pre < len(G.edges): #num_pre의 기본값인 0보다 len(G.edges)가 크다면 (즉, 엣지가 하나 이상 만들어진 경우)\n",
    "                num_pre = len(G.edges) #num_pre 값을 len(G.edges)로 바꿔줌\n",
    "                weight = 0 #가중치 초기화 : W끼리/ F끼리의 엣지라면 0으로 넣게됨.\n",
    "                \n",
    "                ## 이제 weight를 추가해보자. (weight는 W와 F 간에만 존재)\n",
    "                if (df_pos.columns[i] in df_tr.columns) and (df_pos.columns[j] in df_tr.index): #i에 해당하는 F 와 j에 해당하는 W값이 존재(True) 한다면\n",
    "                    if df_tr[df_pos.columns[i]][df_pos.columns[j]]: #가중치값이 존재(True)한다면\n",
    "                        weight = df_tr[df_pos.columns[i]][df_pos.columns[j]]*size #weight에 그 값을 넣기\n",
    "                        \n",
    "                elif (df_pos.columns[j] in df_tr.columns) and (df_pos.columns[i] in df_tr.index): #반대로, j에 해당하는 F와 i에 해당하는 W 값이 존재한다면\n",
    "                    if df_tr[df_pos.columns[j]][df_pos.columns[i]]: #그리고 가중치값이 존재한다면\n",
    "                        weight = df_tr[df_pos.columns[j]][df_pos.columns[i]]*size #weight에 그 값을 넣기 \n",
    "                        \n",
    "                #weight(가중치) 리스트화\n",
    "                edge_w.append(weight)\n",
    "                print(num_pre)\n",
    "                print(edge_w)\n",
    "#---------------------------------------------   \n",
    "        \n",
    "#좌표 설정\n",
    "pos = {}\n",
    "for i in range(len(df_pos.columns)):\n",
    "    node = df_pos.columns[i]\n",
    "    pos[node] = (df_pos[node][0],df_pos[node][1])\n",
    "    \n",
    "#그리기\n",
    "nx.draw(G, pos, with_labels=True,\n",
    "               font_size = 16, node_size = 1000, node_color = 'k', font_color= 'w', width = edge_w) #width에 가중치 리스트 설정)\n",
    "plt.show()"
   ]
  },
  {
   "cell_type": "markdown",
   "metadata": {},
   "source": [
    "위의 결과를 보면 num_pre는 가중치 리스트(edge_w)의 개수와 동일함을 알수있고,  \n",
    "if문이 한번 실행될 때마다 edge_w에 가중치값이 차곡차곡 담긴다. W끼리의 가중치이거나 F끼리의 가중치이면 기본값인 0이 담기고,  \n",
    "W와 F 간의 가중치이면 df_tr에 있는 가중치값이 담긴다.  \n",
    "이렇게해서 총 21개의 가중치가 담기는데, 이는 7개의 가짓수에서 중복을 포함하지 않게 2개를 선택하는 경우 7C2 = 21 값과 동일하다.  \n",
    "\n",
    "---\n",
    "근데 나는 내가 한 방식이 더 쉬운 거 같음! 어차피 W끼리, F끼리는 가중치값이 0이므로 애초에 포함시키지 않는 것이다.  \n",
    "즉, W와 F 이렇게 2개에서 하나씩 뽑히는 경우만 넣어서 중복 포함하지 않게 선택하므로 3C1 * 4C1 = 12 개가 나온다."
   ]
  },
  {
   "cell_type": "markdown",
   "metadata": {},
   "source": [
    "## Tech 58. 운송 비용 함수(목적 함수)를 작성하자\n",
    "위에서 간단하게 운송 데이터를 갖고 창고와 공장 간 이동관계를 네트워크화했다.  \n",
    "결과를 보면, 어느 창고에서 어느 공장으로 가든 골고루 경로가 있다는 것이다. 운송비용을 효율화하고 싶다면 경로가 특정 경로에만 집중되는 편이 좋을 것이다.   \n",
    "\n",
    "---\n",
    "이제는 최적화 문제를 풀어보자.  \n",
    "최적화란, 목적함수(Objectivefucntion)을 정의하고, 제약식을 정의한다. 그 후 제약 조건 하에서 해당 목적 함수를 최대화 or 최소화할 수 있는 최적 조건을 찾는다. 그것이 바로 최적화이다.  \n",
    "여기서는 우리의 목적이 무엇일까? 앞서도 이야기했듯 \"운송 비용을 낮추기 위한 효율적인 운송 경로를 만드는 것\" 이다.  \n",
    "\n",
    "그러므로 `목적 함수 = 운송 비용 계산 함수`이며, 우리는 이 목적 함수를 최소화할 수 있는 최적조건을 찾으면 된다."
   ]
  },
  {
   "cell_type": "code",
   "execution_count": 34,
   "metadata": {},
   "outputs": [
    {
     "data": {
      "text/html": [
       "<div>\n",
       "<style scoped>\n",
       "    .dataframe tbody tr th:only-of-type {\n",
       "        vertical-align: middle;\n",
       "    }\n",
       "\n",
       "    .dataframe tbody tr th {\n",
       "        vertical-align: top;\n",
       "    }\n",
       "\n",
       "    .dataframe thead th {\n",
       "        text-align: right;\n",
       "    }\n",
       "</style>\n",
       "<table border=\"1\" class=\"dataframe\">\n",
       "  <thead>\n",
       "    <tr style=\"text-align: right;\">\n",
       "      <th></th>\n",
       "      <th>F1</th>\n",
       "      <th>F2</th>\n",
       "      <th>F3</th>\n",
       "      <th>F4</th>\n",
       "    </tr>\n",
       "    <tr>\n",
       "      <th>공장</th>\n",
       "      <th></th>\n",
       "      <th></th>\n",
       "      <th></th>\n",
       "      <th></th>\n",
       "    </tr>\n",
       "  </thead>\n",
       "  <tbody>\n",
       "    <tr>\n",
       "      <th>W1</th>\n",
       "      <td>15</td>\n",
       "      <td>15</td>\n",
       "      <td>0</td>\n",
       "      <td>5</td>\n",
       "    </tr>\n",
       "    <tr>\n",
       "      <th>W2</th>\n",
       "      <td>5</td>\n",
       "      <td>0</td>\n",
       "      <td>30</td>\n",
       "      <td>5</td>\n",
       "    </tr>\n",
       "    <tr>\n",
       "      <th>W3</th>\n",
       "      <td>10</td>\n",
       "      <td>15</td>\n",
       "      <td>2</td>\n",
       "      <td>15</td>\n",
       "    </tr>\n",
       "  </tbody>\n",
       "</table>\n",
       "</div>"
      ],
      "text/plain": [
       "    F1  F2  F3  F4\n",
       "공장                \n",
       "W1  15  15   0   5\n",
       "W2   5   0  30   5\n",
       "W3  10  15   2  15"
      ]
     },
     "metadata": {},
     "output_type": "display_data"
    },
    {
     "data": {
      "text/html": [
       "<div>\n",
       "<style scoped>\n",
       "    .dataframe tbody tr th:only-of-type {\n",
       "        vertical-align: middle;\n",
       "    }\n",
       "\n",
       "    .dataframe tbody tr th {\n",
       "        vertical-align: top;\n",
       "    }\n",
       "\n",
       "    .dataframe thead th {\n",
       "        text-align: right;\n",
       "    }\n",
       "</style>\n",
       "<table border=\"1\" class=\"dataframe\">\n",
       "  <thead>\n",
       "    <tr style=\"text-align: right;\">\n",
       "      <th></th>\n",
       "      <th>F1</th>\n",
       "      <th>F2</th>\n",
       "      <th>F3</th>\n",
       "      <th>F4</th>\n",
       "    </tr>\n",
       "    <tr>\n",
       "      <th>공장</th>\n",
       "      <th></th>\n",
       "      <th></th>\n",
       "      <th></th>\n",
       "      <th></th>\n",
       "    </tr>\n",
       "  </thead>\n",
       "  <tbody>\n",
       "    <tr>\n",
       "      <th>W1</th>\n",
       "      <td>10</td>\n",
       "      <td>10</td>\n",
       "      <td>11</td>\n",
       "      <td>27</td>\n",
       "    </tr>\n",
       "    <tr>\n",
       "      <th>W2</th>\n",
       "      <td>18</td>\n",
       "      <td>21</td>\n",
       "      <td>12</td>\n",
       "      <td>14</td>\n",
       "    </tr>\n",
       "    <tr>\n",
       "      <th>W3</th>\n",
       "      <td>15</td>\n",
       "      <td>12</td>\n",
       "      <td>14</td>\n",
       "      <td>12</td>\n",
       "    </tr>\n",
       "  </tbody>\n",
       "</table>\n",
       "</div>"
      ],
      "text/plain": [
       "    F1  F2  F3  F4\n",
       "공장                \n",
       "W1  10  10  11  27\n",
       "W2  18  21  12  14\n",
       "W3  15  12  14  12"
      ]
     },
     "metadata": {},
     "output_type": "display_data"
    }
   ],
   "source": [
    "#운송 비용을 계산하는 함수 만들기\n",
    "import pandas as pd\n",
    "\n",
    "#데이터 불러오기\n",
    "df_tr = pd.read_csv('6장/trans_route.csv', index_col = '공장') #창고- 공장 간 운송 경로\n",
    "df_tc = pd.read_csv('6장/trans_cost.csv', index_col = '공장') #창고-공장 간 운송하는 데 드는 비용\n",
    "\n",
    "display(df_tr, df_tc)"
   ]
  },
  {
   "cell_type": "code",
   "execution_count": 35,
   "metadata": {},
   "outputs": [],
   "source": [
    "#운송 비용 함수\n",
    "def trans_cost(df_tr, df_tc):\n",
    "    cost = 0\n",
    "    for i in range(len(df_tc.index)): #i : W(창고)\n",
    "        for j in range(len(df_tr.columns)): #j : F(공장)\n",
    "            cost += df_tr.iloc[i][j]*df_tc.iloc[i][j] #운송 비용: i-> j 로 갈 때 몇 번 갔는지 * 드는 비용 을 모두 더함 \n",
    "    return cost"
   ]
  },
  {
   "cell_type": "code",
   "execution_count": 36,
   "metadata": {},
   "outputs": [
    {
     "data": {
      "text/plain": [
       "1493"
      ]
     },
     "execution_count": 36,
     "metadata": {},
     "output_type": "execute_result"
    }
   ],
   "source": [
    "#이 예제에서 총 운송비용은 얼마가 나오는지 함수를 적용해보면\n",
    "trans_cost(df_tr, df_tc)"
   ]
  },
  {
   "cell_type": "markdown",
   "metadata": {},
   "source": [
    "## Tech 59. 제약 조건 만들기\n",
    "다음으로는 목적함수에 적용할 제약식을 만든다. 어떤 제약조건이 있을까?  \n",
    "- 창고(W): 공급 가능한 부품 수가 제한됨 -> `supply` (이 정도까지만 공급 가능. 더 많이 만들 수 없음)\n",
    "- 공장(F): 채워야 할 최소한의 제품 제조량이 있음 -> `demand` (최소한 이 수요량이 필요함. 더 적으면 안됨)"
   ]
  },
  {
   "cell_type": "code",
   "execution_count": 37,
   "metadata": {},
   "outputs": [
    {
     "data": {
      "text/html": [
       "<div>\n",
       "<style scoped>\n",
       "    .dataframe tbody tr th:only-of-type {\n",
       "        vertical-align: middle;\n",
       "    }\n",
       "\n",
       "    .dataframe tbody tr th {\n",
       "        vertical-align: top;\n",
       "    }\n",
       "\n",
       "    .dataframe thead th {\n",
       "        text-align: right;\n",
       "    }\n",
       "</style>\n",
       "<table border=\"1\" class=\"dataframe\">\n",
       "  <thead>\n",
       "    <tr style=\"text-align: right;\">\n",
       "      <th></th>\n",
       "      <th>F1</th>\n",
       "      <th>F2</th>\n",
       "      <th>F3</th>\n",
       "      <th>F4</th>\n",
       "    </tr>\n",
       "    <tr>\n",
       "      <th>공장</th>\n",
       "      <th></th>\n",
       "      <th></th>\n",
       "      <th></th>\n",
       "      <th></th>\n",
       "    </tr>\n",
       "  </thead>\n",
       "  <tbody>\n",
       "    <tr>\n",
       "      <th>W1</th>\n",
       "      <td>15</td>\n",
       "      <td>15</td>\n",
       "      <td>0</td>\n",
       "      <td>5</td>\n",
       "    </tr>\n",
       "    <tr>\n",
       "      <th>W2</th>\n",
       "      <td>5</td>\n",
       "      <td>0</td>\n",
       "      <td>30</td>\n",
       "      <td>5</td>\n",
       "    </tr>\n",
       "    <tr>\n",
       "      <th>W3</th>\n",
       "      <td>10</td>\n",
       "      <td>15</td>\n",
       "      <td>2</td>\n",
       "      <td>15</td>\n",
       "    </tr>\n",
       "  </tbody>\n",
       "</table>\n",
       "</div>"
      ],
      "text/plain": [
       "    F1  F2  F3  F4\n",
       "공장                \n",
       "W1  15  15   0   5\n",
       "W2   5   0  30   5\n",
       "W3  10  15   2  15"
      ]
     },
     "metadata": {},
     "output_type": "display_data"
    },
    {
     "data": {
      "text/html": [
       "<div>\n",
       "<style scoped>\n",
       "    .dataframe tbody tr th:only-of-type {\n",
       "        vertical-align: middle;\n",
       "    }\n",
       "\n",
       "    .dataframe tbody tr th {\n",
       "        vertical-align: top;\n",
       "    }\n",
       "\n",
       "    .dataframe thead th {\n",
       "        text-align: right;\n",
       "    }\n",
       "</style>\n",
       "<table border=\"1\" class=\"dataframe\">\n",
       "  <thead>\n",
       "    <tr style=\"text-align: right;\">\n",
       "      <th></th>\n",
       "      <th>F1</th>\n",
       "      <th>F2</th>\n",
       "      <th>F3</th>\n",
       "      <th>F4</th>\n",
       "    </tr>\n",
       "  </thead>\n",
       "  <tbody>\n",
       "    <tr>\n",
       "      <th>0</th>\n",
       "      <td>28</td>\n",
       "      <td>29</td>\n",
       "      <td>31</td>\n",
       "      <td>25</td>\n",
       "    </tr>\n",
       "  </tbody>\n",
       "</table>\n",
       "</div>"
      ],
      "text/plain": [
       "   F1  F2  F3  F4\n",
       "0  28  29  31  25"
      ]
     },
     "metadata": {},
     "output_type": "display_data"
    },
    {
     "data": {
      "text/html": [
       "<div>\n",
       "<style scoped>\n",
       "    .dataframe tbody tr th:only-of-type {\n",
       "        vertical-align: middle;\n",
       "    }\n",
       "\n",
       "    .dataframe tbody tr th {\n",
       "        vertical-align: top;\n",
       "    }\n",
       "\n",
       "    .dataframe thead th {\n",
       "        text-align: right;\n",
       "    }\n",
       "</style>\n",
       "<table border=\"1\" class=\"dataframe\">\n",
       "  <thead>\n",
       "    <tr style=\"text-align: right;\">\n",
       "      <th></th>\n",
       "      <th>W1</th>\n",
       "      <th>W2</th>\n",
       "      <th>W3</th>\n",
       "    </tr>\n",
       "  </thead>\n",
       "  <tbody>\n",
       "    <tr>\n",
       "      <th>0</th>\n",
       "      <td>35</td>\n",
       "      <td>41</td>\n",
       "      <td>42</td>\n",
       "    </tr>\n",
       "  </tbody>\n",
       "</table>\n",
       "</div>"
      ],
      "text/plain": [
       "   W1  W2  W3\n",
       "0  35  41  42"
      ]
     },
     "metadata": {},
     "output_type": "display_data"
    }
   ],
   "source": [
    "import pandas as pd\n",
    "\n",
    "#필요한 데이터\n",
    "df_tr = pd.read_csv('6장/trans_route.csv', index_col = '공장')\n",
    "df_demand = pd.read_csv('6장/demand.csv')\n",
    "df_supply = pd.read_csv('6장/supply.csv')\n",
    "\n",
    "display(df_tr, df_demand, df_supply)"
   ]
  },
  {
   "cell_type": "code",
   "execution_count": 38,
   "metadata": {},
   "outputs": [
    {
     "name": "stdout",
     "output_type": "stream",
     "text": [
      "수요량 만족\n",
      "공장 F1 운송량: 30 (수요량 :28)\n",
      " \n",
      "수요량 만족\n",
      "공장 F2 운송량: 30 (수요량 :29)\n",
      " \n",
      "수요량 만족\n",
      "공장 F3 운송량: 32 (수요량 :31)\n",
      " \n",
      "수요량 만족\n",
      "공장 F4 운송량: 25 (수요량 :25)\n",
      " \n"
     ]
    }
   ],
   "source": [
    "#수요측 제약조건 \n",
    "for i in range(len(df_demand.columns)):\n",
    "    temp_sum = sum(df_tr[df_demand.columns[i]]) #해당 공장(F)에서 필요한 수요의 합. 실제로 이 공장에서 W들 토탈 몇 번 갔냐?\n",
    "    \n",
    "    #그렇다면 temp_sum(실제 수요) >= demand(최소 수요) 여야겠지? 그 반대면 수요량을 만족시키고 있지 않을 것\n",
    "    if temp_sum >= df_demand.iloc[0][i]:\n",
    "        print('수요량 만족')\n",
    "    else: print('수요량 만족X. 운송경로 재계산 필요')\n",
    "    \n",
    "    #정보 출력\n",
    "    print(\"공장 \" + str(df_demand.columns[i]) + \" 운송량: \" + str(temp_sum) + \" (수요량 :\" + str(df_demand.iloc[0][i]) + \")\" )\n",
    "    print(\" \")"
   ]
  },
  {
   "cell_type": "code",
   "execution_count": 39,
   "metadata": {},
   "outputs": [
    {
     "name": "stdout",
     "output_type": "stream",
     "text": [
      "공급한계 범위내\n",
      "창고 W1 운송량: 35 (공급량 :35)\n",
      " \n",
      "공급한계 범위내\n",
      "창고 W2 운송량: 40 (공급량 :41)\n",
      " \n",
      "공급한계 범위내\n",
      "창고 W3 운송량: 42 (공급량 :42)\n",
      " \n"
     ]
    }
   ],
   "source": [
    "#공급측 제약조건\n",
    "for i in range(len(df_supply.columns)):\n",
    "    temp_sum = sum(df_tr.loc[df_supply.columns[i]]) #반대로 해당 창고(W)에서 공급한 양의 합. 실제로 이 창고의 공급은 몇번이냐?\n",
    "    \n",
    "    #그렇다면 temp_sum(실제 공급) <= supply(최대 공급) 이어야겠지? 실제로는 최대로 공급할 수 있는 양보다 더 적거나 같을 것\n",
    "    if temp_sum <= df_supply.iloc[0][i]:\n",
    "        print('공급한계 범위내')\n",
    "    else: print('공급한계 초과. 운송경로 재계산 필요')\n",
    "        \n",
    "    #정보 출력\n",
    "    print(\"창고 \" + str(df_supply.columns[i]) + \" 운송량: \" + str(temp_sum) + \" (공급량 :\" + str(df_supply.iloc[0][i]) + \")\" )\n",
    "    print(\" \")"
   ]
  },
  {
   "cell_type": "markdown",
   "metadata": {},
   "source": [
    "## Tech 60. 운송 경로를 변경해서, 운송 비용 함수(목적함수)의 변화를 확인하자\n",
    "주어진 데이터 df_tr 에 대해서는 수요와 공급량을 모두 만족시키는 것으로 나타났다.  \n",
    "비용을 줄이기 위해, W1 -> F4로의 운송을 줄이고, 대신 W2 -> F4 운송을 더 늘린 새로운 운송경로 데이터 `trans_route_new` 를 불러와, 위에 만든 함수에 적용하고 제약조건 하에서 최소의 비용을 냈는지를 알아보자."
   ]
  },
  {
   "cell_type": "code",
   "execution_count": 40,
   "metadata": {},
   "outputs": [
    {
     "data": {
      "text/html": [
       "<div>\n",
       "<style scoped>\n",
       "    .dataframe tbody tr th:only-of-type {\n",
       "        vertical-align: middle;\n",
       "    }\n",
       "\n",
       "    .dataframe tbody tr th {\n",
       "        vertical-align: top;\n",
       "    }\n",
       "\n",
       "    .dataframe thead th {\n",
       "        text-align: right;\n",
       "    }\n",
       "</style>\n",
       "<table border=\"1\" class=\"dataframe\">\n",
       "  <thead>\n",
       "    <tr style=\"text-align: right;\">\n",
       "      <th></th>\n",
       "      <th>F1</th>\n",
       "      <th>F2</th>\n",
       "      <th>F3</th>\n",
       "      <th>F4</th>\n",
       "    </tr>\n",
       "    <tr>\n",
       "      <th>공장</th>\n",
       "      <th></th>\n",
       "      <th></th>\n",
       "      <th></th>\n",
       "      <th></th>\n",
       "    </tr>\n",
       "  </thead>\n",
       "  <tbody>\n",
       "    <tr>\n",
       "      <th>W1</th>\n",
       "      <td>15</td>\n",
       "      <td>15</td>\n",
       "      <td>0</td>\n",
       "      <td>0</td>\n",
       "    </tr>\n",
       "    <tr>\n",
       "      <th>W2</th>\n",
       "      <td>5</td>\n",
       "      <td>0</td>\n",
       "      <td>30</td>\n",
       "      <td>10</td>\n",
       "    </tr>\n",
       "    <tr>\n",
       "      <th>W3</th>\n",
       "      <td>10</td>\n",
       "      <td>15</td>\n",
       "      <td>2</td>\n",
       "      <td>15</td>\n",
       "    </tr>\n",
       "  </tbody>\n",
       "</table>\n",
       "</div>"
      ],
      "text/plain": [
       "    F1  F2  F3  F4\n",
       "공장                \n",
       "W1  15  15   0   0\n",
       "W2   5   0  30  10\n",
       "W3  10  15   2  15"
      ]
     },
     "execution_count": 40,
     "metadata": {},
     "output_type": "execute_result"
    }
   ],
   "source": [
    "import pandas as pd\n",
    "import numpy as np\n",
    "\n",
    "#데이터 불러오기\n",
    "df_tr_new = pd.read_csv('6장/trans_route_new.csv', index_col = '공장')\n",
    "df_tr_new"
   ]
  },
  {
   "cell_type": "code",
   "execution_count": 41,
   "metadata": {},
   "outputs": [
    {
     "name": "stdout",
     "output_type": "stream",
     "text": [
      "기존: 1493 변경: 1428\n"
     ]
    }
   ],
   "source": [
    "#운송 비용 계산 -> 아까보다 줄어듦\n",
    "print('기존:', trans_cost(df_tr, df_tc), '변경:', trans_cost(df_tr_new, df_tc))"
   ]
  },
  {
   "cell_type": "code",
   "execution_count": 42,
   "metadata": {},
   "outputs": [
    {
     "data": {
      "text/plain": [
       "array([0., 0., 0., 0.])"
      ]
     },
     "execution_count": 42,
     "metadata": {},
     "output_type": "execute_result"
    }
   ],
   "source": [
    "flag = np.zeros(len(df_demand.columns))\n",
    "flag"
   ]
  },
  {
   "cell_type": "code",
   "execution_count": 43,
   "metadata": {},
   "outputs": [
    {
     "data": {
      "text/plain": [
       "0.0"
      ]
     },
     "execution_count": 43,
     "metadata": {},
     "output_type": "execute_result"
    }
   ],
   "source": [
    "flag[0]"
   ]
  },
  {
   "cell_type": "code",
   "execution_count": 44,
   "metadata": {},
   "outputs": [
    {
     "ename": "AttributeError",
     "evalue": "'numpy.ndarray' object has no attribute 'iloc'",
     "output_type": "error",
     "traceback": [
      "\u001b[1;31m---------------------------------------------------------------------------\u001b[0m",
      "\u001b[1;31mAttributeError\u001b[0m                            Traceback (most recent call last)",
      "\u001b[1;32m<ipython-input-44-8d7c19caaafb>\u001b[0m in \u001b[0;36m<module>\u001b[1;34m\u001b[0m\n\u001b[1;32m----> 1\u001b[1;33m \u001b[0mflag\u001b[0m\u001b[1;33m.\u001b[0m\u001b[0miloc\u001b[0m\u001b[1;33m[\u001b[0m\u001b[1;36m0\u001b[0m\u001b[1;33m,\u001b[0m\u001b[1;36m0\u001b[0m\u001b[1;33m]\u001b[0m\u001b[1;33m\u001b[0m\u001b[1;33m\u001b[0m\u001b[0m\n\u001b[0m",
      "\u001b[1;31mAttributeError\u001b[0m: 'numpy.ndarray' object has no attribute 'iloc'"
     ]
    }
   ],
   "source": [
    "flag.iloc[0,0]"
   ]
  },
  {
   "cell_type": "code",
   "execution_count": 45,
   "metadata": {},
   "outputs": [],
   "source": [
    "#제약조건 함수화 -> 앞서 만든 if문에서, 수요(or 공급)을 만족하면 1, 아니면 0을 출력하도록 하는 flag를 만든다.\n",
    "## 먼저 0으로 초기화시키고, 만족하는 경우엔 1을 넣어주기 \n",
    "\n",
    "## 공장(F)의 수요\n",
    "def c_demand(df_tr, df_demand):\n",
    "    \n",
    "    #초기화\n",
    "    flag = np.zeros(len(df_demand.columns))\n",
    "    \n",
    "    #계산\n",
    "    for i in range(len(df_demand.columns)):\n",
    "        temp_sum = sum(df_tr[df_demand.columns[i]])\n",
    "        if temp_sum >= df_demand.iloc[0][i]:\n",
    "            flag[i] = 1\n",
    "    \n",
    "    return flag\n",
    "\n",
    "## 창고(W)의 공급\n",
    "def c_supply(df_tr, df_supply):\n",
    "    \n",
    "    #초기화\n",
    "    flag = np.zeros(len(df_supply.columns))\n",
    "    \n",
    "    #계산\n",
    "    for i in range(len(df_supply.columns)):\n",
    "        temp_sum = sum(df_tr.loc[df_supply.columns[i]])\n",
    "        if temp_sum <= df_supply.iloc[0][i]:\n",
    "            flag[i] = 1\n",
    "            \n",
    "    return flag"
   ]
  },
  {
   "cell_type": "code",
   "execution_count": 46,
   "metadata": {},
   "outputs": [
    {
     "data": {
      "text/plain": [
       "array([1., 1., 1., 1.])"
      ]
     },
     "execution_count": 46,
     "metadata": {},
     "output_type": "execute_result"
    }
   ],
   "source": [
    "#수요 계산 결과 -> 모두 필요한 수요 이상을 만족\n",
    "c_demand(df_tr_new, df_demand)"
   ]
  },
  {
   "cell_type": "code",
   "execution_count": 47,
   "metadata": {},
   "outputs": [
    {
     "data": {
      "text/plain": [
       "array([1., 0., 1.])"
      ]
     },
     "execution_count": 47,
     "metadata": {},
     "output_type": "execute_result"
    }
   ],
   "source": [
    "#공급 계산 결과 -> 최대 공급할수 있는 것보다 많은 게 하나 있음\n",
    "c_supply(df_tr_new, df_supply)"
   ]
  },
  {
   "cell_type": "raw",
   "metadata": {},
   "source": []
  }
 ],
 "metadata": {
  "kernelspec": {
   "display_name": "Python 3",
   "language": "python",
   "name": "python3"
  },
  "language_info": {
   "codemirror_mode": {
    "name": "ipython",
    "version": 3
   },
   "file_extension": ".py",
   "mimetype": "text/x-python",
   "name": "python",
   "nbconvert_exporter": "python",
   "pygments_lexer": "ipython3",
   "version": "3.7.6"
  }
 },
 "nbformat": 4,
 "nbformat_minor": 4
}
