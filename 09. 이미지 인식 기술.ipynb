{
 "cells": [
  {
   "cell_type": "markdown",
   "metadata": {},
   "source": [
    "# 9장. 잠재고객을 파악하기 위한 이미지 인식 테크닉\n",
    "앞으로 공부할 9, 10장은 `비정형 데이터` 를 분석한다.  \n",
    "여기서 9장은 `이미지 데이터`, 10장은 `자연어 처리(텍스트 데이터)` 이다.  \n",
    "\n",
    "이미지 인식 기술은 무료 이미지 처리 라이브러리 OpenCV를 활용한다. 100%에 가까운 정확도는 안되지만, '어느 정도의 성능'을 기대한다면 좋음!"
   ]
  },
  {
   "cell_type": "markdown",
   "metadata": {},
   "source": [
    "## Tech 81. 이미지 데이터를 불러오자\n",
    "\n",
    "중요한 메서드 설명   \n",
    "- `cv2.imread(path)` : 이미지  파일을 읽어온다.\n",
    "- `cv2.imshow('file', file)` : 앞에서 읽어온 file명을 입력해 이미지 파일을 연다."
   ]
  },
  {
   "cell_type": "code",
   "execution_count": 1,
   "metadata": {},
   "outputs": [],
   "source": [
    "import cv2"
   ]
  },
  {
   "cell_type": "code",
   "execution_count": 2,
   "metadata": {},
   "outputs": [
    {
     "name": "stdout",
     "output_type": "stream",
     "text": [
      "이미지 가로:  1920\n",
      "이미지 세로:  1440\n"
     ]
    }
   ],
   "source": [
    "img = cv2.imread('img/img01.jpg')\n",
    "height, width = img.shape[:2]\n",
    "\n",
    "print('이미지 가로: ', width)\n",
    "print('이미지 세로: ', height)"
   ]
  },
  {
   "cell_type": "markdown",
   "metadata": {},
   "source": [
    "여기서 주의해야 할 점이.. 저 imread 파일경로에 한글이 들어가면 Attribute 에러가 뜸. (9장에러 사진참고)  \n",
    "구글링을 해보니 경로에 한글이 들어가면 그렇다고 함... 그래서 무조건 영어경로로 써주기!"
   ]
  },
  {
   "cell_type": "code",
   "execution_count": 3,
   "metadata": {},
   "outputs": [
    {
     "data": {
      "text/plain": [
       "-1"
      ]
     },
     "execution_count": 3,
     "metadata": {},
     "output_type": "execute_result"
    }
   ],
   "source": [
    "cv2.imshow('img', img)\n",
    "cv2.waitKey(0) #사진이 큰 창으로 크게 출력됨."
   ]
  },
  {
   "cell_type": "markdown",
   "metadata": {},
   "source": [
    "`waitKey`는 몇 초 동안 이미지를 표시할지 밀리초(ms)  단위로 지정한다.  \n",
    "예를 들어 1000 지정 시 1초동안 표시함. 다만 0을 지정하면 윈도우를 닫을 때까지 계속해서 보여줌"
   ]
  },
  {
   "cell_type": "markdown",
   "metadata": {},
   "source": [
    "## Tech 82. 동영상 데이터를 불러오자\n",
    "\n",
    "중요 메서드 설명  \n",
    "- `cap = cv2.VideoCapture(path)` : 동영상 파일을 불러온다.\n",
    "- `cap.read()` : 영상 정보를 읽어온다.\n",
    "- `cv2.imshow('file', file)` : 영상 파일을 연다."
   ]
  },
  {
   "cell_type": "code",
   "execution_count": 4,
   "metadata": {},
   "outputs": [],
   "source": [
    "import cv2"
   ]
  },
  {
   "cell_type": "code",
   "execution_count": 5,
   "metadata": {},
   "outputs": [
    {
     "data": {
      "text/plain": [
       "<VideoCapture 00000258522B6B50>"
      ]
     },
     "execution_count": 5,
     "metadata": {},
     "output_type": "execute_result"
    }
   ],
   "source": [
    "#동영상 불러오기\n",
    "cap = cv2.VideoCapture('mov/mov01.avi')\n",
    "cap"
   ]
  },
  {
   "cell_type": "code",
   "execution_count": 6,
   "metadata": {},
   "outputs": [
    {
     "name": "stdout",
     "output_type": "stream",
     "text": [
      "가로:  1920.0\n",
      "세로:  1440.0\n",
      "총 프레임수:  401.0\n",
      "FPS: 30.0\n"
     ]
    }
   ],
   "source": [
    "#동영상 정보 \n",
    "width = cap.get(cv2.CAP_PROP_FRAME_WIDTH)\n",
    "height = cap.get(cv2.CAP_PROP_FRAME_HEIGHT)\n",
    "count = cap.get(cv2.CAP_PROP_FRAME_COUNT)\n",
    "fps = cap.get(cv2.CAP_PROP_FPS)\n",
    "\n",
    "print('가로: ', str(width))\n",
    "print('세로: ', str(height))\n",
    "print('총 프레임수: ', str(count))\n",
    "print('FPS: ' + str(fps))"
   ]
  },
  {
   "cell_type": "code",
   "execution_count": 7,
   "metadata": {},
   "outputs": [],
   "source": [
    "#동영상 출력 - 실행시 큰 창으로 출력 \n",
    "while(cap.isOpened()):\n",
    "    ret, frame = cap.read() #동영상 정보 읽어오기 -read\n",
    "    if ret:\n",
    "        cv2.imshow('frame', frame) #frame은 이미지 정보이므로 imshow 로 읽어들일 수 있음 \n",
    "    if cv2.waitKey(1) & 0xFF == ord('q'): #각 frame을 1밀리초 동안 표시후 다음 프레임으로 이동 , 모든 프레임 처리후 'q' 키 누르면 종료\n",
    "        break\n",
    "        \n",
    "cap.release()\n",
    "cv2.destroyAllWindows()"
   ]
  },
  {
   "cell_type": "markdown",
   "metadata": {},
   "source": [
    "## Tech 83. 동영상을 이미지로 나누고 저장하자\n",
    "동영상을 분할해 이미지로 저장하는 것은 **실제 현장**에선 중요한 의미가 있다.  \n",
    "앞서 다룬 mov01.avi 동영상을 snapshot2 폴더에 이미지로 저장해보자.  \n",
    "\n",
    "- `cv2.imwrite(path, file)` : 새로운 파일로 저장할 경로(path)를 설정한다."
   ]
  },
  {
   "cell_type": "code",
   "execution_count": 8,
   "metadata": {},
   "outputs": [],
   "source": [
    "import cv2\n",
    "cap = cv2.VideoCapture('mov/mov01.avi') #동영상 불러오기\n",
    "num = 0 \n",
    "\n",
    "while(cap.isOpened()):\n",
    "    ret, frame = cap.read() \n",
    "    if ret:\n",
    "        cv2.imshow('frame', frame) \n",
    "        path = 'snapshot2/snapshot_' + str(num) + '.jpg' #이미지의 각 이름을 자동으로 지정\n",
    "        cv2.imwrite(path, frame) #영상 -> 이미지로 저장 \n",
    "        if cv2.waitKey(1) & 0xFF == ord('q'): #각 frame을 1밀리초 동안 표시후 다음 프레임으로 이동 , 모든 프레임 처리후 'q' 키 누르면 종료\n",
    "            break\n",
    "    num += 1\n",
    "        \n",
    "cap.release()\n",
    "cv2.destroyAllWindows()"
   ]
  },
  {
   "cell_type": "code",
   "execution_count": 9,
   "metadata": {},
   "outputs": [
    {
     "data": {
      "text/plain": [
       "318"
      ]
     },
     "execution_count": 9,
     "metadata": {},
     "output_type": "execute_result"
    }
   ],
   "source": [
    "num"
   ]
  },
  {
   "cell_type": "markdown",
   "metadata": {},
   "source": [
    "## Tech 84. 이미지 속에 사람이 어디있는지 검출하자\n",
    "이는 사람을 HOG 특징량으로 표현해서 검출할 수 있다. img01 이라는 이미지 파일로부터 검출해보자.  \n",
    "잘 만들어진 사람 인식 모델 SVMDetector를 사용하기   \n",
    "\n",
    "- `hog = cv2.HOGDescriptor()` : HOG 객체 만들기\n",
    "- `hog.setSVMDetector(cv2.HOGDescriptor_getDefaultPeopleDetector())` : SVMDetector 모델 지정하기\n",
    "- `hogParams = {}` : 파라미터 지정하기\n",
    "\n",
    "이미지에서 사람 검출  \n",
    "- `cv2.cvtColor(img, cv2.COLOR_BGR2GRAY)` : 흑백으로 변환\n",
    "- `hog.detectMultiScale(흑백변환객체, **hogParams)` : 사람을 검출하고 그 위치정보 반환\n",
    "- `cv2.rectangle(img, pt1, pt2, color, thickness )`  : 검출한 사람 주위에 사각형을 그림 - 사각형 정보 추가(크기, 색, 선굵기)   , pt1은 시작점 좌표(x,y), pt2는 종료점 좌표(x,y)임.\n",
    "\n",
    "#### *참고*\n",
    "참고로, 원래 색상은 `RGB` 타입이 디폴트지만, opencv는 `BGR`로 이미지를 로드한다.  \n",
    "따라서 빨간색은 원래 (255, 0, 0) 이지만 여기서는 (0, 0, 255) 라고 써야 한다."
   ]
  },
  {
   "cell_type": "code",
   "execution_count": 2,
   "metadata": {},
   "outputs": [],
   "source": [
    "import cv2\n",
    "\n",
    "#준비\n",
    "hog = cv2.HOGDescriptor() #객체\n",
    "hog.setSVMDetector(cv2.HOGDescriptor_getDefaultPeopleDetector()) #모델지정 \n",
    "hogParams = {'winStride': (8,8), 'padding': (32,32), 'scale': 1.05, 'hitThreshold': 0, 'finalThreshold': 5} #파라미터 설정 "
   ]
  },
  {
   "cell_type": "code",
   "execution_count": 3,
   "metadata": {},
   "outputs": [
    {
     "data": {
      "text/plain": [
       "-1"
      ]
     },
     "execution_count": 3,
     "metadata": {},
     "output_type": "execute_result"
    }
   ],
   "source": [
    "#검출\n",
    "img = cv2.imread('img/img01.jpg') #읽기 \n",
    "gray = cv2.cvtColor(img, cv2.COLOR_BGR2GRAY) #흑백변환 \n",
    "human, r = hog.detectMultiScale(gray, **hogParams) #사람 검출 - human에는 사람의 위치정보가 들어감 \n",
    "\n",
    "if (len(human)> 0): #사람으로 인식한게 1개 이상이라면 \n",
    "    for (x, y, w, h) in human:\n",
    "        cv2.rectangle(img, (x, y), (x+w, y+h), (255, 255, 255), 3) #사각형을 그려! (여기서 255,255,255는 white 색)\n",
    "        \n",
    "cv2.imshow('img', img) #출력 \n",
    "cv2.waitKey(0)"
   ]
  },
  {
   "cell_type": "code",
   "execution_count": 3,
   "metadata": {},
   "outputs": [
    {
     "data": {
      "text/plain": [
       "array([[ 334,  705,  244,  488],\n",
       "       [ 953,  765,  311,  621],\n",
       "       [1857,  684,   63,  183],\n",
       "       [1505,  848,  183,  367],\n",
       "       [1589,    1,   67,  135],\n",
       "       [ 317,  640,   75,  149],\n",
       "       [ 926,  662,   74,  148],\n",
       "       [1699,  685,   76,  152],\n",
       "       [1490,  836,   73,  145],\n",
       "       [1420,  655,   98,  196],\n",
       "       [ 494,  232,   85,  170]])"
      ]
     },
     "execution_count": 3,
     "metadata": {},
     "output_type": "execute_result"
    }
   ],
   "source": [
    "human"
   ]
  },
  {
   "cell_type": "code",
   "execution_count": 4,
   "metadata": {},
   "outputs": [
    {
     "data": {
      "text/plain": [
       "11"
      ]
     },
     "execution_count": 4,
     "metadata": {},
     "output_type": "execute_result"
    }
   ],
   "source": [
    "len(human)"
   ]
  },
  {
   "cell_type": "markdown",
   "metadata": {},
   "source": [
    "그림을 보면 사람으로 잘못 파악한 게 있다(열차를 사람으로 인식했다거나..)  \n",
    "그래도 이정도는 오차로 처리할 수 있다!"
   ]
  },
  {
   "cell_type": "markdown",
   "metadata": {},
   "source": [
    "## Tech 85. 이미지 속에 사람 얼굴을 검출해보자\n",
    "앞에선 '이 사진에서 사람이 어디 있냐?' 였다면 이번엔 '이 사진에서 사람 얼굴을 쏙 뽑아보자' 이다.  \n",
    "얼굴 검출에는 전통적으로 `CascadeClassifier`를 사용한다. 얼굴 검출&개인 인증은 연구의 역사가 길고, 많은 라이브러리가 공개돼 있다!   \n",
    "\n",
    "- `cascade = cv2.CascadeClassifier(file)` : CascadeClassifier 모델 지정\n",
    "\n",
    "이미지에서 사람 얼굴 검출   \n",
    "- `cv2.cvtColor(img, cv2.COLOR_BGR2GRAY)` : 흑백으로 변환\n",
    "- `cascade.detectMultiScale(흑백변환객체, size)` : 사람 얼굴을 검출하고 그 위치정보 반환\n",
    "- `cv2.rectangle(img, size, color, thickness )` : 검출한 사람얼굴 주위에 사각형을 그림 - 사각형 정보 추가(크기, 색, 선굵기)"
   ]
  },
  {
   "cell_type": "code",
   "execution_count": 4,
   "metadata": {},
   "outputs": [],
   "source": [
    "import cv2\n",
    "\n",
    "#준비\n",
    "cascade_file = 'haarcascade_frontalface_alt.xml'\n",
    "cascade = cv2.CascadeClassifier(cascade_file) # (정면 얼굴 인식 모델)"
   ]
  },
  {
   "cell_type": "code",
   "execution_count": 5,
   "metadata": {},
   "outputs": [
    {
     "data": {
      "text/plain": [
       "<CascadeClassifier 000001C33B486B90>"
      ]
     },
     "execution_count": 5,
     "metadata": {},
     "output_type": "execute_result"
    }
   ],
   "source": [
    "cascade"
   ]
  },
  {
   "cell_type": "code",
   "execution_count": 6,
   "metadata": {},
   "outputs": [],
   "source": [
    "#검출하기\n",
    "img = cv2.imread('img/img02.jpg') #읽기\n",
    "gray = cv2.cvtColor(img, cv2.COLOR_BGR2GRAY) #흑백변환 \n",
    "face_list = cascade.detectMultiScale(gray, minSize = (50,50)) #얼굴검출\n",
    "\n",
    "for (x, y, w, h) in face_list:\n",
    "    color = (0, 0, 225) #색 - red \n",
    "    pen_w = 3 #선굵기 \n",
    "    cv2.rectangle(img, (x, y), (x+w, y+h), color, thickness = pen_w) #정면얼굴에 사각형을 그려!\n",
    "    \n",
    "cv2.namedWindow('img', cv2.WINDOW_NORMAL)\n",
    "cv2.imshow('img', img)\n",
    "cv2.imwrite('temp.jpg', img) #img 에 사각형 얼굴인식 한것을 'temp' 라는 이름으로 이미지 저장함 -> 저장된 것 확인 \n",
    "cv2.waitKey(1000)\n",
    "cv2.destroyAllWindows()"
   ]
  },
  {
   "cell_type": "markdown",
   "metadata": {},
   "source": [
    "여기서 여러 객체 설명하자면  \n",
    "- `cv2.namedWindow('file', cv2.WINDOW_NORMAL_)` : 'file' 이라는 이름으로 창을 생성함 \n",
    "- `cv2.waitKey(숫자)` : 숫자 밀리세컨초만큼 이미지/영상 파일을 띄움, 0을 쓸 경우 무한정으로 띄워짐. X표시 눌러야 닫힘\n",
    "- `cv2.destroyAllWindows()` : 모든 창 닫기\n",
    "- `cv2.destroyWindow('file')` : 'file' 창만 닫기"
   ]
  },
  {
   "cell_type": "code",
   "execution_count": 9,
   "metadata": {},
   "outputs": [
    {
     "data": {
      "text/plain": [
       "array([[1051,   87,  182,  182]])"
      ]
     },
     "execution_count": 9,
     "metadata": {},
     "output_type": "execute_result"
    }
   ],
   "source": [
    "face_list"
   ]
  },
  {
   "cell_type": "markdown",
   "metadata": {},
   "source": [
    "## Tech 86. 이미지 속 사람 얼굴이 어느쪽을 보고 있는지를 검출하자\n",
    "여기선 `dlib` 라는 라이브러리를 활용해 얼굴을 눈, 코, 입, 윤곽의 68개 특징점으로 표현할 수 있다.  \n",
    "이로써 **사람이 얼굴을 어느쪽으로 돌리고 있는지**와 같은 세세한 정보를 검출할 수 있음!   \n",
    "\n",
    "아나콘다 프롬프트에 `pip install dlib` 실행"
   ]
  },
  {
   "cell_type": "code",
   "execution_count": 7,
   "metadata": {},
   "outputs": [],
   "source": [
    "import cv2, dlib, math"
   ]
  },
  {
   "cell_type": "markdown",
   "metadata": {},
   "source": [
    "dilb의 face detector와 landmark(shape) predictor를 이용해 얼굴 랜드마크(눈, 코, 입, 윤곽)를 찍어주자.  \n",
    "\n",
    "필요 메서드   \n",
    "- `detector = dlib.get_frontal_face_detector()` : 얼굴 전체(face, detector) - 이하 'd'\n",
    "    - `dets = detector(img, 1)`\n",
    "- `predictor= dlib.shape_predictor('..'`) : 얼굴 내 랜드마크(predictor) - 이하 'shape'\n",
    "    - `shape = predictor(img, d)`\n",
    "\n",
    "얼굴 전체 d에 사각형 그리기    \n",
    "- `cv2.rectangle(img, size, color, line-thickness)`\n",
    "\n",
    "얼굴 랜드마크 shape에 점 찍기(좌표 필요)\n",
    "- `cv2.circle(img, (x좌표, y좌표), circle_r, color, line-thickness)` : 여기서 좌표는 shape_point.x, y로 들어있다.\n",
    "- 이것은 랜드마크에 점을 딱딱딱 찍을때뿐만 아니라, 랜드마크 점들 중에서 중심점을 찍을 때도 사용함.\n",
    "\n",
    "그림 위에 text 추가하기\n",
    "- `cv2.putText(img, 텍스트, (x좌표, y좌표), fontType, fontSize, color, line-thickness)` : img 위에 텍스트가 원하는 위치에 입력됨."
   ]
  },
  {
   "cell_type": "code",
   "execution_count": 8,
   "metadata": {},
   "outputs": [],
   "source": [
    "#준비\n",
    "predictor = dlib.shape_predictor(\"shape_predictor_68_face_landmarks.dat\")\n",
    "detector = dlib.get_frontal_face_detector()"
   ]
  },
  {
   "cell_type": "code",
   "execution_count": 9,
   "metadata": {},
   "outputs": [
    {
     "data": {
      "text/plain": [
       "rectangles[[(1061, 116) (1216, 270)]]"
      ]
     },
     "execution_count": 9,
     "metadata": {},
     "output_type": "execute_result"
    }
   ],
   "source": [
    "#얼굴 랜드마크 검출\n",
    "img = cv2.imread('img/img02.jpg') \n",
    "dets = detector(img, 1)\n",
    "dets"
   ]
  },
  {
   "cell_type": "code",
   "execution_count": 10,
   "metadata": {
    "scrolled": true
   },
   "outputs": [
    {
     "name": "stdout",
     "output_type": "stream",
     "text": [
      "68\n",
      " \n",
      "얼굴 랜드마크 No.0 좌표위치: (1052, 164)\n",
      "얼굴 랜드마크 No.1 좌표위치: (1055, 185)\n",
      "얼굴 랜드마크 No.2 좌표위치: (1058, 206)\n",
      "얼굴 랜드마크 No.3 좌표위치: (1063, 227)\n",
      "얼굴 랜드마크 No.4 좌표위치: (1073, 246)\n",
      "얼굴 랜드마크 No.5 좌표위치: (1086, 262)\n",
      "얼굴 랜드마크 No.6 좌표위치: (1102, 275)\n",
      "얼굴 랜드마크 No.7 좌표위치: (1122, 285)\n",
      "얼굴 랜드마크 No.8 좌표위치: (1143, 286)\n",
      "얼굴 랜드마크 No.9 좌표위치: (1162, 280)\n",
      "얼굴 랜드마크 No.10 좌표위치: (1177, 266)\n",
      "얼굴 랜드마크 No.11 좌표위치: (1186, 249)\n",
      "얼굴 랜드마크 No.12 좌표위치: (1194, 229)\n",
      "얼굴 랜드마크 No.13 좌표위치: (1197, 209)\n",
      "얼굴 랜드마크 No.14 좌표위치: (1198, 188)\n",
      "얼굴 랜드마크 No.15 좌표위치: (1197, 167)\n",
      "얼굴 랜드마크 No.16 좌표위치: (1194, 149)\n",
      "얼굴 랜드마크 No.17 좌표위치: (1077, 153)\n",
      "얼굴 랜드마크 No.18 좌표위치: (1087, 146)\n",
      "얼굴 랜드마크 No.19 좌표위치: (1100, 145)\n",
      "얼굴 랜드마크 No.20 좌표위치: (1113, 146)\n",
      "얼굴 랜드마크 No.21 좌표위치: (1126, 149)\n",
      "얼굴 랜드마크 No.22 좌표위치: (1142, 146)\n",
      "얼굴 랜드마크 No.23 좌표위치: (1150, 140)\n",
      "얼굴 랜드마크 No.24 좌표위치: (1160, 134)\n",
      "얼굴 랜드마크 No.25 좌표위치: (1172, 130)\n",
      "얼굴 랜드마크 No.26 좌표위치: (1182, 132)\n",
      "얼굴 랜드마크 No.27 좌표위치: (1136, 156)\n",
      "얼굴 랜드마크 No.28 좌표위치: (1139, 169)\n",
      "얼굴 랜드마크 No.29 좌표위치: (1142, 182)\n",
      "얼굴 랜드마크 No.30 좌표위치: (1145, 196)\n",
      "얼굴 랜드마크 No.31 좌표위치: (1125, 206)\n",
      "얼굴 랜드마크 No.32 좌표위치: (1134, 208)\n",
      "얼굴 랜드마크 No.33 좌표위치: (1144, 210)\n",
      "얼굴 랜드마크 No.34 좌표위치: (1153, 206)\n",
      "얼굴 랜드마크 No.35 좌표위치: (1160, 202)\n",
      "얼굴 랜드마크 No.36 좌표위치: (1090, 162)\n",
      "얼굴 랜드마크 No.37 좌표위치: (1097, 157)\n",
      "얼굴 랜드마크 No.38 좌표위치: (1105, 155)\n",
      "얼굴 랜드마크 No.39 좌표위치: (1114, 159)\n",
      "얼굴 랜드마크 No.40 좌표위치: (1106, 161)\n",
      "얼굴 랜드마크 No.41 좌표위치: (1098, 162)\n",
      "얼굴 랜드마크 No.42 좌표위치: (1152, 153)\n",
      "얼굴 랜드마크 No.43 좌표위치: (1158, 146)\n",
      "얼굴 랜드마크 No.44 좌표위치: (1166, 145)\n",
      "얼굴 랜드마크 No.45 좌표위치: (1174, 147)\n",
      "얼굴 랜드마크 No.46 좌표위치: (1168, 150)\n",
      "얼굴 랜드마크 No.47 좌표위치: (1160, 152)\n",
      "얼굴 랜드마크 No.48 좌표위치: (1112, 240)\n",
      "얼굴 랜드마크 No.49 좌표위치: (1124, 231)\n",
      "얼굴 랜드마크 No.50 좌표위치: (1136, 225)\n",
      "얼굴 랜드마크 No.51 좌표위치: (1144, 227)\n",
      "얼굴 랜드마크 No.52 좌표위치: (1152, 223)\n",
      "얼굴 랜드마크 No.53 좌표위치: (1160, 225)\n",
      "얼굴 랜드마크 No.54 좌표위치: (1166, 231)\n",
      "얼굴 랜드마크 No.55 좌표위치: (1161, 242)\n",
      "얼굴 랜드마크 No.56 좌표위치: (1153, 248)\n",
      "얼굴 랜드마크 No.57 좌표위치: (1145, 250)\n",
      "얼굴 랜드마크 No.58 좌표위치: (1136, 250)\n",
      "얼굴 랜드마크 No.59 좌표위치: (1124, 248)\n",
      "얼굴 랜드마크 No.60 좌표위치: (1117, 239)\n",
      "얼굴 랜드마크 No.61 좌표위치: (1136, 234)\n",
      "얼굴 랜드마크 No.62 좌표위치: (1145, 234)\n",
      "얼굴 랜드마크 No.63 좌표위치: (1152, 232)\n",
      "얼굴 랜드마크 No.64 좌표위치: (1162, 231)\n",
      "얼굴 랜드마크 No.65 좌표위치: (1152, 235)\n",
      "얼굴 랜드마크 No.66 좌표위치: (1144, 237)\n",
      "얼굴 랜드마크 No.67 좌표위치: (1136, 237)\n",
      " \n",
      "얼굴방향: 0.065 (각도: 3.699도)\n"
     ]
    }
   ],
   "source": [
    "#얼굴 랜드마크 검출\n",
    "img = cv2.imread('img/img02.jpg') #이미지 파일 불러오기\n",
    "dets = detector(img, 1)\n",
    "\n",
    "## 이제부터 인식된 얼굴 개수만큼 반복하여 얼굴 윤곽을 표시한다.\n",
    "# k: 얼굴 인덱스, d: 얼굴 좌표\n",
    "\n",
    "for k, d in enumerate(dets): \n",
    "    shape = predictor(img, d) #shape: 얼굴 랜드마크 추출 \n",
    "    print(shape.num_parts) #추출된 점은 68개. \n",
    "    print(' ')\n",
    "    \n",
    "    #얼굴 영역 표시\n",
    "        ## 색깔\n",
    "    color_f = (0, 0, 255) #face - 빨강\n",
    "    color_l_out = (255, 0, 0) #랜드마크 바깥쪽(out) - 파랑\n",
    "    color_l_in = (0, 255, 0)    #랜드마크 안쪽(in) - 초록 \n",
    "        ## 표시할 선, 도형\n",
    "    line_width = 3\n",
    "    circle_r = 3\n",
    "        ## 글씨 \n",
    "    fontType = cv2.FONT_HERSHEY_SIMPLEX\n",
    "    fontSize = 2\n",
    "    \n",
    "    #얼굴 자체(detector)에 사각형 그림 -근데 책에서 텍스트는 왜 쓰는거임? 필요없어서 뺐음 \n",
    "    cv2.rectangle(img, (d.left(), d.top()), (d.right(), d.bottom()), color_f, line_width)\n",
    "    \n",
    "    #이제 랜드마크에 점을 찍어보자.\n",
    "    num_of_points_out = 17\n",
    "    num_of_points_in = shape.num_parts - num_of_points_out\n",
    "    gx_out = 0; gy_out = 0; gx_in = 0; gy_in = 0\n",
    "    \n",
    "    #점을 찍으려면 필요한 건 좌표!  -> 이는 shape.part(번호) 에 (x,y로) 들어있다.\n",
    "    # 번호값을 하나씩 바꿔가며 좌표를 찍자.\n",
    "    for i in range(shape.num_parts): #총 68개\n",
    "        shape_point = shape.part(i)\n",
    "        print('얼굴 랜드마크 No.{} 좌표위치: ({}, {})'.format(i, shape_point.x, shape_point.y))\n",
    "        \n",
    "        #얼굴 랜드마크마다 그리기\n",
    "        ## i(랜드마크 번호)가 17보다 작으면 out(바깥쪽)을 그린다 - 파란색 점 \n",
    "        if i < num_of_points_out:\n",
    "            cv2.circle(img, (shape_point.x, shape_point.y), circle_r, color_l_out, line_width)\n",
    "            gx_out = gx_out + shape_point.x/num_of_points_out\n",
    "            gy_out = gy_out + shape_point.y/num_of_points_out\n",
    "        \n",
    "        ##반면 i가 17이상이면 in(안쪽)을 그린다 - 초록색 점 \n",
    "        else:\n",
    "            cv2.circle(img, (shape_point.x, shape_point.y), circle_r, color_l_in, line_width)\n",
    "            gx_in = gx_in + shape_point.x/num_of_points_in\n",
    "            gy_in = gy_in + shape_point.y/num_of_points_in\n",
    "            \n",
    "    #랜드마크에 톡톡톡 찍힌 점들 중에서도, 가장 중심위치를 표시해보자.\n",
    "        #먼저 out(바깥쪽)은 빨강색\n",
    "    cv2.circle(img, (int(gx_out), int(gy_out)), circle_r, (0,0,255), line_width)\n",
    "        #그리고 in(안쪽)은 검은색 \n",
    "    cv2.circle(img, (int(gx_in), int(gy_in)), circle_r, (0,0,0), line_width)\n",
    "    \n",
    "    \n",
    "    #얼굴 방향 표시하기(정면인지? 측면인지? -> 앞서 만든 out, in 좌표로 계산!)\n",
    "    theta = math.asin(2*(gx_in-gx_out) / (d.right() - d.left()))\n",
    "    radian = theta*180/math.pi\n",
    "    print(' ')\n",
    "    print('얼굴방향: {0:.3f} (각도: {1:.3f}도)'.format(theta, radian))\n",
    "    \n",
    "    #이 얼굴방향과 각도를 face('d') 사각형 위에 출력 \n",
    "    if radian < 0:\n",
    "        textPrefix = 'left'\n",
    "    else: \n",
    "        textPrefix = 'right'\n",
    "        \n",
    "    textShow = textPrefix + str(round(abs(radian), 1)) + \" deg.\"\n",
    "    cv2.putText(img, textShow, (d.left(), d.top()), fontType, fontSize, color_f, line_width)\n",
    "    \n",
    "    "
   ]
  },
  {
   "cell_type": "code",
   "execution_count": 11,
   "metadata": {},
   "outputs": [],
   "source": [
    "cv2.namedWindow('img')\n",
    "cv2.imshow('img', img)\n",
    "cv2.imwrite('temp.jpg', img)\n",
    "cv2.waitKey(0)\n",
    "cv2.destroyAllWindows()"
   ]
  },
  {
   "cell_type": "markdown",
   "metadata": {},
   "source": [
    "## Tech 87. 검출한 정보로 타임랩스를 만들어보자.\n",
    "다시 앞의 동영상 데이터로 돌아가자.  \n",
    "장시간 정보를 모두 눈으로 확인하는 것은 시간이 오래 걸린다. 이 때 '타임랩스'를 활용하면 좋다.  \n",
    "타임랩스란 **일정 기간의 프레임 중에서 1프레임만 꺼내는 '빠르게 재생하기' 기법** 이다. 간단한 경향을 빠르게 파악하는 데 용이함!"
   ]
  },
  {
   "cell_type": "markdown",
   "metadata": {},
   "source": [
    "필요한 메서드  \n",
    "- `cv2.VideoWriter_fourcc(파라미터 4개 지정)` : 4개의 동영상 데이터 포맷 지정. X, V, I, D 로 지정한 경우 avi 형식으로 만들어짐 \n",
    "- `cv2.VideoWriter(filename, fourcc, fps, (width, height), isColor=None)` : fps는 초당 프레임 수를 의미, isColor는 디폴트가 True(컬러영상)\n",
    "\n",
    "---\n",
    "- 원래 mov01 영상은 12초 ->  타임랩스 결과, 사람으로 인식하면 네모를 그리며 1초로 줄어듦\n",
    "- 1000ms = 1초임.\n",
    "- fps는 초당 프레임 수임. 여기서 fps는 30임(나와있음), 근데 fps를 30으로 했으므로 "
   ]
  },
  {
   "cell_type": "code",
   "execution_count": 19,
   "metadata": {},
   "outputs": [
    {
     "name": "stdout",
     "output_type": "stream",
     "text": [
      "타임랩스 생성 시작\n",
      "타임랩스 생성 완료\n"
     ]
    }
   ],
   "source": [
    "import cv2\n",
    "print('타임랩스 생성 시작')\n",
    "\n",
    "#동영상 읽어오기 .앞에서 쓴거 복붙 \n",
    "cap = cv2.VideoCapture('mov/mov01.avi')\n",
    "width = int(cap.get(cv2.CAP_PROP_FRAME_WIDTH))\n",
    "height = int(cap.get(cv2.CAP_PROP_FRAME_HEIGHT))\n",
    "\n",
    "#hog 객체 - 사람이 어디 있는지 판단. 앞에서 쓴거 복붙\n",
    "hog = cv2.HOGDescriptor() #객체\n",
    "hog.setSVMDetector(cv2.HOGDescriptor_getDefaultPeopleDetector()) #모델지정 \n",
    "hogParams = {'winStride': (8,8), 'padding': (32,32), 'scale': 1.05, 'hitThreshold': 0, 'finalThreshold': 5} #파라미터 설정 \n",
    "\n",
    "\n",
    "#타임랩스 작성\n",
    "movie_name = 'timelapse2.avi'\n",
    "fourcc = cv2.VideoWriter_fourcc(*'XVID') #'X', 'V', 'I', 'D'로 써도 됨 \n",
    "video = cv2.VideoWriter(movie_name, fourcc, 30, (width, height))\n",
    "\n",
    "num = 0\n",
    "while(cap.isOpened()):\n",
    "    ret, frame = cap.read()\n",
    "    if ret:\n",
    "        if (num%10 == 0): #10으로 나누어 떨어지는 경우만(41개 프레임만)\n",
    "                            ## 영상길이를 압축하기 위해 이 프레임만 사람을 인식해 네모로 넣는다.\n",
    "                            ## 그결과, 12초였던 영상이 1.2초로 줄어듦 \n",
    "            gray = cv2.cvtColor(frame, cv2.COLOR_BGR2GRAY)\n",
    "            human, r = hog.detectMultiScale(gray, **hogParams)\n",
    "            if (len(human) > 0):\n",
    "                for (x, y, w, h) in human:\n",
    "                    cv2.rectangle(frame, (x,y), (x+w, y+h), (255,255,255), 3)\n",
    "            video.write(frame)\n",
    "            \n",
    "    else: break\n",
    "    num += 1\n",
    "    \n",
    "#타임랩스 종료 및 발행 \n",
    "video.release()\n",
    "cap.release()\n",
    "cv2.destroyAllWindows()\n",
    "print('타임랩스 생성 완료')"
   ]
  },
  {
   "cell_type": "code",
   "execution_count": 14,
   "metadata": {},
   "outputs": [
    {
     "data": {
      "text/plain": [
       "401"
      ]
     },
     "execution_count": 14,
     "metadata": {},
     "output_type": "execute_result"
    }
   ],
   "source": [
    "num"
   ]
  },
  {
   "cell_type": "code",
   "execution_count": 20,
   "metadata": {
    "scrolled": true
   },
   "outputs": [
    {
     "data": {
      "text/plain": [
       "41"
      ]
     },
     "execution_count": 20,
     "metadata": {},
     "output_type": "execute_result"
    }
   ],
   "source": [
    "sy = 0\n",
    "for i in range(num):\n",
    "    if i%10 == 0:\n",
    "        sy += 1\n",
    "    else: pass\n",
    "    \n",
    "sy"
   ]
  },
  {
   "cell_type": "markdown",
   "metadata": {},
   "source": [
    "## Tech 88. 동영상 내 사람의 수를 그래프로 나타내자.\n",
    "영상이 흐름에 따라 사람으로 인식하는 숫자가 어떻게 바뀌는지, 시계열 그래프를 만들어보자!  \n",
    "-> 즉, x축은 time, y축은 사람 수로 보면 되겠지?"
   ]
  },
  {
   "cell_type": "code",
   "execution_count": 40,
   "metadata": {},
   "outputs": [
    {
     "name": "stdout",
     "output_type": "stream",
     "text": [
      "분석 시작\n",
      "분석 종료\n"
     ]
    }
   ],
   "source": [
    "#위에서 한거랑 timelapse 부분 코드만 바꿈 \n",
    "\n",
    "import cv2\n",
    "import pandas as pd\n",
    "print('분석 시작')\n",
    "\n",
    "#동영상 읽어오기 .앞에서 쓴거 복붙 \n",
    "cap = cv2.VideoCapture('mov/mov01.avi')\n",
    "fps = cap.get(cv2.CAP_PROP_FPS)\n",
    "\n",
    "#hog 객체 - 사람이 어디 있는지 판단. 앞에서 쓴거 복붙\n",
    "hog = cv2.HOGDescriptor() #객체\n",
    "hog.setSVMDetector(cv2.HOGDescriptor_getDefaultPeopleDetector()) #모델지정 \n",
    "hogParams = {'winStride': (8,8), 'padding': (32,32), 'scale': 1.05, 'hitThreshold': 0, 'finalThreshold': 5} #파라미터 설정 \n",
    "\n",
    "\n",
    "#그래프 작성 \n",
    "num = 0\n",
    "list_df = pd.DataFrame(columns = ['time', 'people'])\n",
    "\n",
    "while(cap.isOpened()):\n",
    "    ret, frame = cap.read()\n",
    "    if ret:\n",
    "        if (num%10 == 0): #10으로 나누어 떨어지는 경우만(41개 프레임만)\n",
    "                            ## 영상길이를 압축하기 위해 이 프레임만 사람을 인식해 네모로 넣는다.\n",
    "                            ## 그결과, 12초였던 영상이 1.2초로 줄어듦 \n",
    "            gray = cv2.cvtColor(frame, cv2.COLOR_BGR2GRAY)\n",
    "            human, r = hog.detectMultiScale(gray, **hogParams) #그 뒤에 이어지는 사각형 표시는 여기선 필요없으므로 지움\n",
    "#             if (len(human) > 0):\n",
    "#                 for (x, y, w, h) in human:\n",
    "#                     cv2.rectangle(frame, (x,y), (x+w, y+h), (255,255,255), 3)\n",
    "\n",
    "            tmp = pd.Series([num/fps, len(human)], index = list_df.columns)\n",
    "            list_df = list_df.append(tmp, ignore_index = True)\n",
    "            #display(list_df)\n",
    "            \n",
    "            if cv2.waitKey(1) & 0xFF == ord('q'):\n",
    "                break\n",
    "\n",
    "    else: break\n",
    "    num += 1\n",
    "    \n",
    "#종료\n",
    "cap.release()\n",
    "cv2.destroyAllWindows()\n",
    "print('분석 종료')"
   ]
  },
  {
   "cell_type": "code",
   "execution_count": 26,
   "metadata": {
    "scrolled": true
   },
   "outputs": [
    {
     "data": {
      "text/html": [
       "<div>\n",
       "<style scoped>\n",
       "    .dataframe tbody tr th:only-of-type {\n",
       "        vertical-align: middle;\n",
       "    }\n",
       "\n",
       "    .dataframe tbody tr th {\n",
       "        vertical-align: top;\n",
       "    }\n",
       "\n",
       "    .dataframe thead th {\n",
       "        text-align: right;\n",
       "    }\n",
       "</style>\n",
       "<table border=\"1\" class=\"dataframe\">\n",
       "  <thead>\n",
       "    <tr style=\"text-align: right;\">\n",
       "      <th></th>\n",
       "      <th>time</th>\n",
       "      <th>people</th>\n",
       "    </tr>\n",
       "  </thead>\n",
       "  <tbody>\n",
       "    <tr>\n",
       "      <th>0</th>\n",
       "      <td>0.000000</td>\n",
       "      <td>5.0</td>\n",
       "    </tr>\n",
       "    <tr>\n",
       "      <th>1</th>\n",
       "      <td>0.333333</td>\n",
       "      <td>11.0</td>\n",
       "    </tr>\n",
       "    <tr>\n",
       "      <th>2</th>\n",
       "      <td>0.666667</td>\n",
       "      <td>11.0</td>\n",
       "    </tr>\n",
       "    <tr>\n",
       "      <th>3</th>\n",
       "      <td>1.000000</td>\n",
       "      <td>7.0</td>\n",
       "    </tr>\n",
       "    <tr>\n",
       "      <th>4</th>\n",
       "      <td>1.333333</td>\n",
       "      <td>9.0</td>\n",
       "    </tr>\n",
       "    <tr>\n",
       "      <th>5</th>\n",
       "      <td>1.666667</td>\n",
       "      <td>11.0</td>\n",
       "    </tr>\n",
       "    <tr>\n",
       "      <th>6</th>\n",
       "      <td>2.000000</td>\n",
       "      <td>6.0</td>\n",
       "    </tr>\n",
       "    <tr>\n",
       "      <th>7</th>\n",
       "      <td>2.333333</td>\n",
       "      <td>8.0</td>\n",
       "    </tr>\n",
       "    <tr>\n",
       "      <th>8</th>\n",
       "      <td>2.666667</td>\n",
       "      <td>13.0</td>\n",
       "    </tr>\n",
       "    <tr>\n",
       "      <th>9</th>\n",
       "      <td>3.000000</td>\n",
       "      <td>12.0</td>\n",
       "    </tr>\n",
       "    <tr>\n",
       "      <th>10</th>\n",
       "      <td>3.333333</td>\n",
       "      <td>11.0</td>\n",
       "    </tr>\n",
       "    <tr>\n",
       "      <th>11</th>\n",
       "      <td>3.666667</td>\n",
       "      <td>5.0</td>\n",
       "    </tr>\n",
       "    <tr>\n",
       "      <th>12</th>\n",
       "      <td>4.000000</td>\n",
       "      <td>7.0</td>\n",
       "    </tr>\n",
       "    <tr>\n",
       "      <th>13</th>\n",
       "      <td>4.333333</td>\n",
       "      <td>9.0</td>\n",
       "    </tr>\n",
       "    <tr>\n",
       "      <th>14</th>\n",
       "      <td>4.666667</td>\n",
       "      <td>5.0</td>\n",
       "    </tr>\n",
       "    <tr>\n",
       "      <th>15</th>\n",
       "      <td>5.000000</td>\n",
       "      <td>9.0</td>\n",
       "    </tr>\n",
       "    <tr>\n",
       "      <th>16</th>\n",
       "      <td>5.333333</td>\n",
       "      <td>6.0</td>\n",
       "    </tr>\n",
       "    <tr>\n",
       "      <th>17</th>\n",
       "      <td>5.666667</td>\n",
       "      <td>5.0</td>\n",
       "    </tr>\n",
       "    <tr>\n",
       "      <th>18</th>\n",
       "      <td>6.000000</td>\n",
       "      <td>6.0</td>\n",
       "    </tr>\n",
       "    <tr>\n",
       "      <th>19</th>\n",
       "      <td>6.333333</td>\n",
       "      <td>7.0</td>\n",
       "    </tr>\n",
       "    <tr>\n",
       "      <th>20</th>\n",
       "      <td>6.666667</td>\n",
       "      <td>9.0</td>\n",
       "    </tr>\n",
       "    <tr>\n",
       "      <th>21</th>\n",
       "      <td>7.000000</td>\n",
       "      <td>10.0</td>\n",
       "    </tr>\n",
       "    <tr>\n",
       "      <th>22</th>\n",
       "      <td>7.333333</td>\n",
       "      <td>10.0</td>\n",
       "    </tr>\n",
       "    <tr>\n",
       "      <th>23</th>\n",
       "      <td>7.666667</td>\n",
       "      <td>9.0</td>\n",
       "    </tr>\n",
       "    <tr>\n",
       "      <th>24</th>\n",
       "      <td>8.000000</td>\n",
       "      <td>8.0</td>\n",
       "    </tr>\n",
       "    <tr>\n",
       "      <th>25</th>\n",
       "      <td>8.333333</td>\n",
       "      <td>9.0</td>\n",
       "    </tr>\n",
       "    <tr>\n",
       "      <th>26</th>\n",
       "      <td>8.666667</td>\n",
       "      <td>8.0</td>\n",
       "    </tr>\n",
       "    <tr>\n",
       "      <th>27</th>\n",
       "      <td>9.000000</td>\n",
       "      <td>7.0</td>\n",
       "    </tr>\n",
       "    <tr>\n",
       "      <th>28</th>\n",
       "      <td>9.333333</td>\n",
       "      <td>7.0</td>\n",
       "    </tr>\n",
       "    <tr>\n",
       "      <th>29</th>\n",
       "      <td>9.666667</td>\n",
       "      <td>8.0</td>\n",
       "    </tr>\n",
       "    <tr>\n",
       "      <th>30</th>\n",
       "      <td>10.000000</td>\n",
       "      <td>7.0</td>\n",
       "    </tr>\n",
       "    <tr>\n",
       "      <th>31</th>\n",
       "      <td>10.333333</td>\n",
       "      <td>8.0</td>\n",
       "    </tr>\n",
       "    <tr>\n",
       "      <th>32</th>\n",
       "      <td>10.666667</td>\n",
       "      <td>9.0</td>\n",
       "    </tr>\n",
       "    <tr>\n",
       "      <th>33</th>\n",
       "      <td>11.000000</td>\n",
       "      <td>6.0</td>\n",
       "    </tr>\n",
       "    <tr>\n",
       "      <th>34</th>\n",
       "      <td>11.333333</td>\n",
       "      <td>11.0</td>\n",
       "    </tr>\n",
       "    <tr>\n",
       "      <th>35</th>\n",
       "      <td>11.666667</td>\n",
       "      <td>4.0</td>\n",
       "    </tr>\n",
       "    <tr>\n",
       "      <th>36</th>\n",
       "      <td>12.000000</td>\n",
       "      <td>7.0</td>\n",
       "    </tr>\n",
       "    <tr>\n",
       "      <th>37</th>\n",
       "      <td>12.333333</td>\n",
       "      <td>5.0</td>\n",
       "    </tr>\n",
       "    <tr>\n",
       "      <th>38</th>\n",
       "      <td>12.666667</td>\n",
       "      <td>7.0</td>\n",
       "    </tr>\n",
       "    <tr>\n",
       "      <th>39</th>\n",
       "      <td>13.000000</td>\n",
       "      <td>11.0</td>\n",
       "    </tr>\n",
       "    <tr>\n",
       "      <th>40</th>\n",
       "      <td>13.333333</td>\n",
       "      <td>7.0</td>\n",
       "    </tr>\n",
       "  </tbody>\n",
       "</table>\n",
       "</div>"
      ],
      "text/plain": [
       "         time  people\n",
       "0    0.000000     5.0\n",
       "1    0.333333    11.0\n",
       "2    0.666667    11.0\n",
       "3    1.000000     7.0\n",
       "4    1.333333     9.0\n",
       "5    1.666667    11.0\n",
       "6    2.000000     6.0\n",
       "7    2.333333     8.0\n",
       "8    2.666667    13.0\n",
       "9    3.000000    12.0\n",
       "10   3.333333    11.0\n",
       "11   3.666667     5.0\n",
       "12   4.000000     7.0\n",
       "13   4.333333     9.0\n",
       "14   4.666667     5.0\n",
       "15   5.000000     9.0\n",
       "16   5.333333     6.0\n",
       "17   5.666667     5.0\n",
       "18   6.000000     6.0\n",
       "19   6.333333     7.0\n",
       "20   6.666667     9.0\n",
       "21   7.000000    10.0\n",
       "22   7.333333    10.0\n",
       "23   7.666667     9.0\n",
       "24   8.000000     8.0\n",
       "25   8.333333     9.0\n",
       "26   8.666667     8.0\n",
       "27   9.000000     7.0\n",
       "28   9.333333     7.0\n",
       "29   9.666667     8.0\n",
       "30  10.000000     7.0\n",
       "31  10.333333     8.0\n",
       "32  10.666667     9.0\n",
       "33  11.000000     6.0\n",
       "34  11.333333    11.0\n",
       "35  11.666667     4.0\n",
       "36  12.000000     7.0\n",
       "37  12.333333     5.0\n",
       "38  12.666667     7.0\n",
       "39  13.000000    11.0\n",
       "40  13.333333     7.0"
      ]
     },
     "execution_count": 26,
     "metadata": {},
     "output_type": "execute_result"
    }
   ],
   "source": [
    "list_df"
   ]
  },
  {
   "cell_type": "code",
   "execution_count": 41,
   "metadata": {},
   "outputs": [
    {
     "data": {
      "image/png": "[encoded data removed]",
      "text/plain": [
       "<Figure size 432x288 with 1 Axes>"
      ]
     },
     "metadata": {
      "needs_background": "light"
     },
     "output_type": "display_data"
    }
   ],
   "source": [
    "#이제 list_df로 그래프 그려보자.\n",
    "import matplotlib.pyplot as plt\n",
    "\n",
    "plt.plot(list_df['time'], list_df['people'])\n",
    "plt.xlabel('time(sec.)')\n",
    "plt.ylabel('population')\n",
    "plt.title('mov01 graph')\n",
    "plt.ylim(0, 15)\n",
    "plt.show()"
   ]
  },
  {
   "cell_type": "markdown",
   "metadata": {},
   "source": [
    "## Tech 89. 다른 동영상을 가져와서 해보자.\n",
    "똑같은 방식으로, mov01을 mov02로 바꿔서 해보자. 영상이 바뀌었을 때! (영상 캡쳐 넣기)"
   ]
  },
  {
   "cell_type": "code",
   "execution_count": 42,
   "metadata": {},
   "outputs": [
    {
     "name": "stdout",
     "output_type": "stream",
     "text": [
      "분석 시작\n",
      "분석 종료\n"
     ]
    }
   ],
   "source": [
    "######### 위에서 한거랑 동일 ############\n",
    "\n",
    "import cv2\n",
    "import pandas as pd\n",
    "print('분석 시작')\n",
    "\n",
    "#동영상 읽어오기 .앞에서 쓴거 복붙 \n",
    "cap = cv2.VideoCapture('mov/mov02.avi') # -----------------> 얘만 바꿈 \n",
    "fps = cap.get(cv2.CAP_PROP_FPS)\n",
    "\n",
    "#hog 객체 - 사람이 어디 있는지 판단. 앞에서 쓴거 복붙\n",
    "hog = cv2.HOGDescriptor() #객체\n",
    "hog.setSVMDetector(cv2.HOGDescriptor_getDefaultPeopleDetector()) #모델지정 \n",
    "hogParams = {'winStride': (8,8), 'padding': (32,32), 'scale': 1.05, 'hitThreshold': 0, 'finalThreshold': 5} #파라미터 설정 \n",
    "\n",
    "\n",
    "#그래프 작성 \n",
    "num = 0\n",
    "list_df2 = pd.DataFrame(columns = ['time', 'people'])\n",
    "\n",
    "while(cap.isOpened()):\n",
    "    ret, frame = cap.read()\n",
    "    if ret:\n",
    "        if (num%10 == 0): #10으로 나누어 떨어지는 경우만(41개 프레임만)\n",
    "                            ## 영상길이를 압축하기 위해 이 프레임만 사람을 인식해 네모로 넣는다.\n",
    "                            ## 그결과, 12초였던 영상이 1.2초로 줄어듦 \n",
    "            gray = cv2.cvtColor(frame, cv2.COLOR_BGR2GRAY)\n",
    "            human, r = hog.detectMultiScale(gray, **hogParams) #그 뒤에 이어지는 사각형 표시는 여기선 필요없으므로 지움\n",
    "#             if (len(human) > 0):\n",
    "#                 for (x, y, w, h) in human:\n",
    "#                     cv2.rectangle(frame, (x,y), (x+w, y+h), (255,255,255), 3)\n",
    "\n",
    "            tmp = pd.Series([num/fps, len(human)], index = list_df2.columns)\n",
    "            list_df2 = list_df2.append(tmp, ignore_index = True)\n",
    "            \n",
    "            if cv2.waitKey(1) & 0xFF == ord('q'):\n",
    "                break\n",
    "\n",
    "    else: break\n",
    "    num += 1\n",
    "    \n",
    "#종료\n",
    "cap.release()\n",
    "cv2.destroyAllWindows()\n",
    "print('분석 종료')"
   ]
  },
  {
   "cell_type": "code",
   "execution_count": 43,
   "metadata": {},
   "outputs": [
    {
     "data": {
      "image/png": "[encoded data removed]",
      "text/plain": [
       "<Figure size 432x288 with 1 Axes>"
      ]
     },
     "metadata": {
      "needs_background": "light"
     },
     "output_type": "display_data"
    }
   ],
   "source": [
    "#이제 list_df2로 그래프 그려보자.\n",
    "import matplotlib.pyplot as plt\n",
    "\n",
    "plt.plot(list_df2['time'], list_df2['people'])\n",
    "plt.xlabel('time(sec.)')\n",
    "plt.ylabel('population')\n",
    "plt.title('mov02 graph')\n",
    "plt.ylim(0, 15)\n",
    "plt.show()"
   ]
  },
  {
   "cell_type": "code",
   "execution_count": null,
   "metadata": {},
   "outputs": [],
   "source": [
    "#아님 굳이 프레임 40개 말고 전체를 써도 될듯..? (근데 시간 오래 걸릴예정이므로 나중에 해보자,,)\n",
    "######### 위에서 한거랑 동일 ############\n",
    "\n",
    "import cv2\n",
    "import pandas as pd\n",
    "print('분석 시작')\n",
    "\n",
    "#동영상 읽어오기 .앞에서 쓴거 복붙 \n",
    "cap = cv2.VideoCapture('mov/mov02.avi') # -----------------> 얘만 바꿈 \n",
    "fps = cap.get(cv2.CAP_PROP_FPS)\n",
    "\n",
    "#hog 객체 - 사람이 어디 있는지 판단. 앞에서 쓴거 복붙\n",
    "hog = cv2.HOGDescriptor() #객체\n",
    "hog.setSVMDetector(cv2.HOGDescriptor_getDefaultPeopleDetector()) #모델지정 \n",
    "hogParams = {'winStride': (8,8), 'padding': (32,32), 'scale': 1.05, 'hitThreshold': 0, 'finalThreshold': 5} #파라미터 설정 \n",
    "\n",
    "\n",
    "#그래프 작성 \n",
    "num = 0\n",
    "list_df = pd.DataFrame(columns = ['time', 'people'])\n",
    "\n",
    "while(cap.isOpened()):\n",
    "    ret, frame = cap.read()\n",
    "    if ret:\n",
    "            gray = cv2.cvtColor(frame, cv2.COLOR_BGR2GRAY)\n",
    "            human, r = hog.detectMultiScale(gray, **hogParams)\n",
    "\n",
    "            tmp = pd.Series([num/fps, len(human)], index = list_df.columns)\n",
    "            list_df = list_df.append(tmp, ignore_index = True)\n",
    "            \n",
    "            if cv2.waitKey(1) & 0xFF == ord('q'):\n",
    "                break\n",
    "\n",
    "    else: break\n",
    "    num += 1\n",
    "    \n",
    "#종료\n",
    "cap.release()\n",
    "cv2.destroyAllWindows()\n",
    "print('분석 종료')"
   ]
  },
  {
   "cell_type": "code",
   "execution_count": null,
   "metadata": {},
   "outputs": [],
   "source": [
    "#이제 list_df로 그래프 그려보자.\n",
    "import matplotlib.pyplot as plt\n",
    "\n",
    "plt.plot(list_df['time'], list_df['people'])\n",
    "plt.xlabel('time(sec.)')\n",
    "plt.ylabel('population')\n",
    "plt.title('mov02 graph')\n",
    "plt.ylim(0, 15)\n",
    "plt.show()"
   ]
  },
  {
   "cell_type": "markdown",
   "metadata": {},
   "source": [
    "결과를 보면 mov01보다 mov02가 사람 수가 조금 늘어난 것으로 보인다. \n",
    "실제로 두 영상 모두 같은 장소에서 촬영되었지만, 후자가 카메라 근처에 사람이 몰려있어서이다. \n",
    "하지만, 여기서 본 것은 **HOG가 인식한 사람의 숫자**다. 앞에서도 hog가 사각형 표시해준걸 봤을때, 사람이 몰려있으면 표시가 안되고 열차를 사람으로 인식하기도 했다.  \n",
    "-> hog는 노이즈가 많고 오검출이 많다. 그래서 mov02 가 사람이 더 많지만, 그래프로만 보면 노이즈 때문에 크게 늘어난 것으로 안보인다.  \n",
    "**노이즈를 제거하는 방법**을 공부해보자."
   ]
  },
  {
   "cell_type": "markdown",
   "metadata": {},
   "source": [
    "## Tech 90. 이동평균을 계산해 HOG 노이즈를 제거하자\n",
    "이 장의 마지막 테크닉!  \n",
    "노이즈가 생기는 이유는 1.계산해야 할 사람을 계산하지 않아서 2. 계산안해도 될 사람을 계산해서 일 것이다.  \n",
    "-> 시간의 평균(이동평균)을 계산하면 갑자기 사람의 숫자가 늘어나거나 줄어들어서 생기는 오차를 줄일 수 있을 것!  \n",
    "-> 함수 `moving_average`를 만들어 이동평균을 계산해보자."
   ]
  },
  {
   "cell_type": "code",
   "execution_count": 31,
   "metadata": {},
   "outputs": [],
   "source": [
    "import numpy as np\n",
    "def moving_average(x, y):\n",
    "    y_conv = np.convolve(y, np.ones(5)/float(5), mode = 'valid') #people 값을 이동평균화해서 값을 보정함.\n",
    "    x_dat = np.linspace(np.min(x), np.max(x), np.size(y_conv)) #time의 최소~ 최대를 일정 간격으로 나눈다. (사실 프레임을 골라낼 때 10의 배수만 뽑아서 필요없긴 함.)\n",
    "    return x_dat, y_conv"
   ]
  },
  {
   "cell_type": "code",
   "execution_count": 33,
   "metadata": {
    "scrolled": true
   },
   "outputs": [
    {
     "data": {
      "text/html": [
       "<div>\n",
       "<style scoped>\n",
       "    .dataframe tbody tr th:only-of-type {\n",
       "        vertical-align: middle;\n",
       "    }\n",
       "\n",
       "    .dataframe tbody tr th {\n",
       "        vertical-align: top;\n",
       "    }\n",
       "\n",
       "    .dataframe thead th {\n",
       "        text-align: right;\n",
       "    }\n",
       "</style>\n",
       "<table border=\"1\" class=\"dataframe\">\n",
       "  <thead>\n",
       "    <tr style=\"text-align: right;\">\n",
       "      <th></th>\n",
       "      <th>time</th>\n",
       "      <th>people</th>\n",
       "    </tr>\n",
       "  </thead>\n",
       "  <tbody>\n",
       "    <tr>\n",
       "      <th>0</th>\n",
       "      <td>0.000000</td>\n",
       "      <td>13.0</td>\n",
       "    </tr>\n",
       "    <tr>\n",
       "      <th>1</th>\n",
       "      <td>0.333333</td>\n",
       "      <td>14.0</td>\n",
       "    </tr>\n",
       "    <tr>\n",
       "      <th>2</th>\n",
       "      <td>0.666667</td>\n",
       "      <td>10.0</td>\n",
       "    </tr>\n",
       "    <tr>\n",
       "      <th>3</th>\n",
       "      <td>1.000000</td>\n",
       "      <td>8.0</td>\n",
       "    </tr>\n",
       "    <tr>\n",
       "      <th>4</th>\n",
       "      <td>1.333333</td>\n",
       "      <td>10.0</td>\n",
       "    </tr>\n",
       "  </tbody>\n",
       "</table>\n",
       "</div>"
      ],
      "text/plain": [
       "       time  people\n",
       "0  0.000000    13.0\n",
       "1  0.333333    14.0\n",
       "2  0.666667    10.0\n",
       "3  1.000000     8.0\n",
       "4  1.333333    10.0"
      ]
     },
     "execution_count": 33,
     "metadata": {},
     "output_type": "execute_result"
    }
   ],
   "source": [
    "list_df.head()"
   ]
  },
  {
   "cell_type": "code",
   "execution_count": 34,
   "metadata": {},
   "outputs": [
    {
     "data": {
      "text/plain": [
       "array([11. ,  9.6,  9. ,  9. ,  9. ,  8.4,  9.2,  9. ,  8.6,  8.6,  9.4,\n",
       "        9.4,  9.2,  9.6,  9.6,  9. ,  8. ,  8. ,  8. ,  8.4,  9. ,  9.6,\n",
       "        9.4,  8.8,  8.4,  7.8,  7.6,  8.2,  7.6,  7.8,  7.4,  8.2,  7. ,\n",
       "        7.2,  6.8,  7.2,  6.2])"
      ]
     },
     "execution_count": 34,
     "metadata": {},
     "output_type": "execute_result"
    }
   ],
   "source": [
    "np.convolve(list_df['people'], np.ones(5)/float(5), mode = 'valid') #people 값을 이동평균으로 바꿔줌."
   ]
  },
  {
   "cell_type": "code",
   "execution_count": 35,
   "metadata": {},
   "outputs": [
    {
     "data": {
      "text/plain": [
       "array([0.2, 0.2, 0.2, 0.2, 0.2])"
      ]
     },
     "execution_count": 35,
     "metadata": {},
     "output_type": "execute_result"
    }
   ],
   "source": [
    "np.ones(5)/float(5) #1/5니까.."
   ]
  },
  {
   "cell_type": "code",
   "execution_count": 36,
   "metadata": {},
   "outputs": [
    {
     "data": {
      "text/plain": [
       "array([  5.  ,  28.75,  52.5 ,  76.25, 100.  ])"
      ]
     },
     "execution_count": 36,
     "metadata": {},
     "output_type": "execute_result"
    }
   ],
   "source": [
    "#np.linspace(구간 시작점, 구간 끝점, 숫자 개수)\n",
    "np.linspace(5, 100, 5)"
   ]
  },
  {
   "cell_type": "code",
   "execution_count": 38,
   "metadata": {},
   "outputs": [
    {
     "data": {
      "text/plain": [
       "array([ 0.        ,  0.33333333,  0.66666667,  1.        ,  1.33333333,\n",
       "        1.66666667,  2.        ,  2.33333333,  2.66666667,  3.        ,\n",
       "        3.33333333,  3.66666667,  4.        ,  4.33333333,  4.66666667,\n",
       "        5.        ,  5.33333333,  5.66666667,  6.        ,  6.33333333,\n",
       "        6.66666667,  7.        ,  7.33333333,  7.66666667,  8.        ,\n",
       "        8.33333333,  8.66666667,  9.        ,  9.33333333,  9.66666667,\n",
       "       10.        , 10.33333333, 10.66666667, 11.        , 11.33333333,\n",
       "       11.66666667, 12.        , 12.33333333, 12.66666667, 13.        ,\n",
       "       13.33333333])"
      ]
     },
     "execution_count": 38,
     "metadata": {},
     "output_type": "execute_result"
    }
   ],
   "source": [
    "x = list_df['time']\n",
    "y_conv = list_df['people']\n",
    "np.linspace(np.min(x), np.max(x), np.size(y_conv))"
   ]
  },
  {
   "cell_type": "code",
   "execution_count": 49,
   "metadata": {},
   "outputs": [
    {
     "data": {
      "image/png": "[encoded data removed]",
      "text/plain": [
       "<Figure size 432x288 with 1 Axes>"
      ]
     },
     "metadata": {
      "needs_background": "light"
     },
     "output_type": "display_data"
    }
   ],
   "source": [
    "#원래와 어떻게 달라지는지 확인해보자! \n",
    "## mov01 \n",
    "\n",
    "#원래 그래프\n",
    "plt.plot(list_df['time'], list_df['people'], label = 'raw')\n",
    "\n",
    "#달라진 그래프\n",
    "ma_x , ma_y = moving_average(list_df['time'], list_df['people'])\n",
    "plt.plot(ma_x, ma_y, label = 'average')\n",
    "\n",
    "plt.xlabel('time(sec.)')\n",
    "plt.ylabel('population')\n",
    "plt.title('mov01 Graph')\n",
    "plt.ylim(0, 15)\n",
    "plt.legend()\n",
    "plt.show()"
   ]
  },
  {
   "cell_type": "code",
   "execution_count": 50,
   "metadata": {},
   "outputs": [
    {
     "data": {
      "image/png": "[encoded data removed]",
      "text/plain": [
       "<Figure size 432x288 with 1 Axes>"
      ]
     },
     "metadata": {
      "needs_background": "light"
     },
     "output_type": "display_data"
    }
   ],
   "source": [
    "## mov02\n",
    "\n",
    "#원래 그래프\n",
    "plt.plot(list_df2['time'], list_df2['people'], label = 'raw')\n",
    "\n",
    "#달라진 그래프\n",
    "ma_x2 , ma_y2 = moving_average(list_df2['time'], list_df2['people'])\n",
    "plt.plot(ma_x2, ma_y2, label = 'average')\n",
    "\n",
    "plt.xlabel('time(sec.)')\n",
    "plt.ylabel('population')\n",
    "plt.title('mov02 Graph')\n",
    "plt.ylim(0, 15)\n",
    "plt.legend()\n",
    "plt.show()"
   ]
  },
  {
   "cell_type": "code",
   "execution_count": 51,
   "metadata": {},
   "outputs": [
    {
     "data": {
      "image/png": "[encoded data removed]",
      "text/plain": [
       "<Figure size 432x288 with 1 Axes>"
      ]
     },
     "metadata": {
      "needs_background": "light"
     },
     "output_type": "display_data"
    }
   ],
   "source": [
    "## 이번엔 mov01과 mov02를 비교해보자.\n",
    "\n",
    "plt.plot(ma_x, ma_y, label = 'mov01')\n",
    "plt.plot(ma_x2, ma_y2, label = 'mov02')\n",
    "plt.xlabel('time(sec.)')\n",
    "plt.ylabel('population')\n",
    "plt.title('mov01 vs. mov02 graph using moving average')\n",
    "plt.ylim(0, 15)\n",
    "plt.legend()\n",
    "plt.show()"
   ]
  },
  {
   "cell_type": "markdown",
   "metadata": {},
   "source": [
    "이렇게 하면 아까 '대충 mov02가 사람이 더 많은것 같다' 에서, 정확하게 mov02가 더 사람이 많다는 것을 인정할 수 있다.  \n",
    "(사실 mov02가 사람들이 더 카메라에 몰려 있어서 mov2가 더 많은 게 맞다!!)  \n",
    "\n",
    "이렇게 이동평균을 사용하는 것 외에도, 더 정확하게 비교하기 위해 `HOG 크기 변경하기`, `특정 크기 이상의 사람만 검출하기`, `특정 크기 이하는 무시하기` 등의 규칙을 사용할 수 있다.  \n",
    "\n",
    "---\n",
    "\n",
    "이렇게 하여 이미지와 동영상을 파이썬으로 읽어오는 방법, 그리고 사람 얼굴을 인식하는 방법, 인식된 사람 수를 그래프로 표현하는 방법 등을 배웠다.  \n",
    "완벽한 이미지 처리로는 불충분하지만, 이 장에서 배운 흐름을 이해한다면 다른 전문서적의 도움을 받아 고도의 이미지(동영상) 데이터 분석을 할 수 있을 것이다.  \n",
    "\n",
    "이제 다음 장, 대망의 마지막 10장! 은 `자연어 처리(NLP)` 기술에 대해 배운다!!"
   ]
  }
 ],
 "metadata": {
  "kernelspec": {
   "display_name": "Python 3",
   "language": "python",
   "name": "python3"
  },
  "language_info": {
   "codemirror_mode": {
    "name": "ipython",
    "version": 3
   },
   "file_extension": ".py",
   "mimetype": "text/x-python",
   "name": "python",
   "nbconvert_exporter": "python",
   "pygments_lexer": "ipython3",
   "version": "3.7.6"
  }
 },
 "nbformat": 4,
 "nbformat_minor": 4
}
